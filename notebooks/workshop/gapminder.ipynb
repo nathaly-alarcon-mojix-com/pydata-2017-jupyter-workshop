{
 "cells": [
  {
   "cell_type": "code",
   "execution_count": 1,
   "metadata": {
    "collapsed": false,
    "extensions": {
     "jupyter_dashboards": {
      "version": 1,
      "views": {
       "grid_default": {
        "hidden": true
       },
       "report_default": {}
      }
     }
    }
   },
   "outputs": [
    {
     "data": {
      "application/javascript": [
       "$(\".repository-content, .container\").css(\"width\", \"90%\");\n",
       "$(\"body, #outer-dashboard, .navbar-default\").css(\"background-color\", \"papayawhip\");\n",
       "$(\".navbar-default\").css(\"background-color\", \"lightblue\");"
      ],
      "text/plain": [
       "<IPython.core.display.Javascript object>"
      ]
     },
     "metadata": {},
     "output_type": "display_data"
    }
   ],
   "source": [
    "%%js\n",
    "$(\".repository-content, .container\").css(\"width\", \"90%\");\n",
    "$(\"body, #outer-dashboard, .navbar-default\").css(\"background-color\", \"papayawhip\");\n",
    "$(\".navbar-default\").css(\"background-color\", \"lightblue\");"
   ]
  },
  {
   "cell_type": "code",
   "execution_count": 2,
   "metadata": {
    "collapsed": false,
    "extensions": {
     "jupyter_dashboards": {
      "version": 1,
      "views": {
       "grid_default": {
        "col": 8,
        "height": 4,
        "hidden": false,
        "row": 0,
        "width": 2
       },
       "report_default": {}
      }
     }
    }
   },
   "outputs": [
    {
     "data": {
      "text/html": [
       "<img src=\"//localhost:3010/files/img/pydata.png\">"
      ],
      "text/plain": [
       "<IPython.core.display.HTML object>"
      ]
     },
     "metadata": {},
     "output_type": "display_data"
    }
   ],
   "source": [
    "%%html\n",
    "<img src=\"//localhost:3010/files/img/pydata.png\">"
   ]
  },
  {
   "cell_type": "code",
   "execution_count": 3,
   "metadata": {
    "collapsed": true,
    "extensions": {
     "jupyter_dashboards": {
      "version": 1,
      "views": {
       "grid_default": {
        "hidden": true
       },
       "report_default": {}
      }
     }
    }
   },
   "outputs": [],
   "source": [
    "import numpy as np\n",
    "import pandas as pd\n",
    "\n",
    "from bokeh.io import output_notebook, push_notebook, show\n",
    "from bokeh.models import ColumnDataSource, HoverTool, SingleIntervalTicker, CategoricalColorMapper, Label\n",
    "from bokeh.palettes import Spectral6\n",
    "from bokeh.plotting import figure\n",
    "\n",
    "from bokeh.sampledata.gapminder import fertility, life_expectancy, population, regions"
   ]
  },
  {
   "cell_type": "code",
   "execution_count": 4,
   "metadata": {
    "collapsed": true,
    "extensions": {
     "jupyter_dashboards": {
      "version": 1,
      "views": {
       "grid_default": {
        "hidden": true
       },
       "report_default": {}
      }
     }
    }
   },
   "outputs": [],
   "source": [
    "from ipywidgets import widgets, interact\n",
    "from IPython.display import display"
   ]
  },
  {
   "cell_type": "code",
   "execution_count": 5,
   "metadata": {
    "collapsed": true,
    "extensions": {
     "jupyter_dashboards": {
      "version": 1,
      "views": {
       "grid_default": {
        "hidden": true
       },
       "report_default": {}
      }
     }
    }
   },
   "outputs": [],
   "source": [
    "def process_data():\n",
    "    from bokeh.sampledata.gapminder import fertility, life_expectancy, population, regions\n",
    "\n",
    "    # Make the column names ints not strings for handling\n",
    "    columns = list(fertility.columns)\n",
    "    years = list(range(int(columns[0]), int(columns[-1])))\n",
    "    rename_dict = dict(zip(columns, years))\n",
    "\n",
    "    fertility = fertility.rename(columns=rename_dict)\n",
    "    life_expectancy = life_expectancy.rename(columns=rename_dict)\n",
    "    population = population.rename(columns=rename_dict)\n",
    "    regions = regions.rename(columns=rename_dict)\n",
    "\n",
    "    regions_list = list(regions.Group.unique())\n",
    "\n",
    "    # Turn population into bubble sizes. Use min_size and factor to tweak.\n",
    "    scale_factor = 200\n",
    "    population_size = pd.DataFrame(data=np.sqrt(population.values / np.pi) / scale_factor, columns=population.columns, index=population.index)\n",
    "    min_size = 3\n",
    "    population_size = population_size.where(\n",
    "        population_size >= min_size).fillna(min_size)\n",
    "\n",
    "    return fertility, life_expectancy, population_size, regions, years, regions_list\n"
   ]
  },
  {
   "cell_type": "code",
   "execution_count": 6,
   "metadata": {
    "collapsed": false,
    "extensions": {
     "jupyter_dashboards": {
      "version": 1,
      "views": {
       "grid_default": {
        "col": 0,
        "height": 4,
        "hidden": true,
        "row": 0,
        "width": 4
       },
       "report_default": {}
      }
     }
    }
   },
   "outputs": [
    {
     "data": {
      "text/html": []
     },
     "metadata": {},
     "output_type": "display_data"
    },
    {
     "data": {
      "application/javascript": [
       "\n",
       "(function(global) {\n",
       "  function now() {\n",
       "    return new Date();\n",
       "  }\n",
       "\n",
       "  var force = true;\n",
       "\n",
       "  if (typeof (window._bokeh_onload_callbacks) === \"undefined\" || force === true) {\n",
       "    window._bokeh_onload_callbacks = [];\n",
       "    window._bokeh_is_loading = undefined;\n",
       "  }\n",
       "\n",
       "\n",
       "  \n",
       "  if (typeof (window._bokeh_timeout) === \"undefined\" || force === true) {\n",
       "    window._bokeh_timeout = Date.now() + 5000;\n",
       "    window._bokeh_failed_load = false;\n",
       "  }\n",
       "\n",
       "  var NB_LOAD_WARNING = {'data': {'text/html':\n",
       "     \"<div style='background-color: #fdd'>\\n\"+\n",
       "     \"<p>\\n\"+\n",
       "     \"BokehJS does not appear to have successfully loaded. If loading BokehJS from CDN, this \\n\"+\n",
       "     \"may be due to a slow or bad network connection. Possible fixes:\\n\"+\n",
       "     \"</p>\\n\"+\n",
       "     \"<ul>\\n\"+\n",
       "     \"<li>re-rerun `output_notebook()` to attempt to load from CDN again, or</li>\\n\"+\n",
       "     \"<li>use INLINE resources instead, as so:</li>\\n\"+\n",
       "     \"</ul>\\n\"+\n",
       "     \"<code>\\n\"+\n",
       "     \"from bokeh.resources import INLINE\\n\"+\n",
       "     \"output_notebook(resources=INLINE)\\n\"+\n",
       "     \"</code>\\n\"+\n",
       "     \"</div>\"}};\n",
       "\n",
       "  function display_loaded() {\n",
       "    if (window.Bokeh !== undefined) {\n",
       "      var el = document.getElementById(\"\");\n",
       "      el.textContent = \"BokehJS \" + Bokeh.version + \" successfully loaded.\";\n",
       "    } else if (Date.now() < window._bokeh_timeout) {\n",
       "      setTimeout(display_loaded, 100)\n",
       "    }\n",
       "  }\n",
       "\n",
       "  function run_callbacks() {\n",
       "    window._bokeh_onload_callbacks.forEach(function(callback) { callback() });\n",
       "    delete window._bokeh_onload_callbacks\n",
       "    console.info(\"Bokeh: all callbacks have finished\");\n",
       "  }\n",
       "\n",
       "  function load_libs(js_urls, callback) {\n",
       "    window._bokeh_onload_callbacks.push(callback);\n",
       "    if (window._bokeh_is_loading > 0) {\n",
       "      console.log(\"Bokeh: BokehJS is being loaded, scheduling callback at\", now());\n",
       "      return null;\n",
       "    }\n",
       "    if (js_urls == null || js_urls.length === 0) {\n",
       "      run_callbacks();\n",
       "      return null;\n",
       "    }\n",
       "    console.log(\"Bokeh: BokehJS not loaded, scheduling load and callback at\", now());\n",
       "    window._bokeh_is_loading = js_urls.length;\n",
       "    for (var i = 0; i < js_urls.length; i++) {\n",
       "      var url = js_urls[i];\n",
       "      var s = document.createElement('script');\n",
       "      s.src = url;\n",
       "      s.async = false;\n",
       "      s.onreadystatechange = s.onload = function() {\n",
       "        window._bokeh_is_loading--;\n",
       "        if (window._bokeh_is_loading === 0) {\n",
       "          console.log(\"Bokeh: all BokehJS libraries loaded\");\n",
       "          run_callbacks()\n",
       "        }\n",
       "      };\n",
       "      s.onerror = function() {\n",
       "        console.warn(\"failed to load library \" + url);\n",
       "      };\n",
       "      console.log(\"Bokeh: injecting script tag for BokehJS library: \", url);\n",
       "      document.getElementsByTagName(\"head\")[0].appendChild(s);\n",
       "    }\n",
       "  };\n",
       "\n",
       "  var js_urls = [\"https://cdn.pydata.org/bokeh/release/bokeh-0.12.5.min.js\", \"https://cdn.pydata.org/bokeh/release/bokeh-widgets-0.12.5.min.js\"];\n",
       "\n",
       "  var inline_js = [\n",
       "    function(Bokeh) {\n",
       "      Bokeh.set_log_level(\"info\");\n",
       "    },\n",
       "    \n",
       "    function(Bokeh) {\n",
       "      \n",
       "    },\n",
       "    function(Bokeh) {\n",
       "      console.log(\"Bokeh: injecting CSS: https://cdn.pydata.org/bokeh/release/bokeh-0.12.5.min.css\");\n",
       "      Bokeh.embed.inject_css(\"https://cdn.pydata.org/bokeh/release/bokeh-0.12.5.min.css\");\n",
       "      console.log(\"Bokeh: injecting CSS: https://cdn.pydata.org/bokeh/release/bokeh-widgets-0.12.5.min.css\");\n",
       "      Bokeh.embed.inject_css(\"https://cdn.pydata.org/bokeh/release/bokeh-widgets-0.12.5.min.css\");\n",
       "    }\n",
       "  ];\n",
       "\n",
       "  function run_inline_js() {\n",
       "    \n",
       "    if ((window.Bokeh !== undefined) || (force === true)) {\n",
       "      for (var i = 0; i < inline_js.length; i++) {\n",
       "        inline_js[i](window.Bokeh);\n",
       "      }} else if (Date.now() < window._bokeh_timeout) {\n",
       "      setTimeout(run_inline_js, 100);\n",
       "    } else if (!window._bokeh_failed_load) {\n",
       "      console.log(\"Bokeh: BokehJS failed to load within specified timeout.\");\n",
       "      window._bokeh_failed_load = true;\n",
       "    } else if (force !== true) {\n",
       "      var cell = $(document.getElementById(\"\")).parents('.cell').data().cell;\n",
       "      cell.output_area.append_execute_result(NB_LOAD_WARNING)\n",
       "    }\n",
       "\n",
       "  }\n",
       "\n",
       "  if (window._bokeh_is_loading === 0) {\n",
       "    console.log(\"Bokeh: BokehJS loaded, going straight to plotting\");\n",
       "    run_inline_js();\n",
       "  } else {\n",
       "    load_libs(js_urls, function() {\n",
       "      console.log(\"Bokeh: BokehJS plotting callback run at\", now());\n",
       "      run_inline_js();\n",
       "    });\n",
       "  }\n",
       "}(this));"
      ]
     },
     "metadata": {},
     "output_type": "display_data"
    }
   ],
   "source": [
    "output_notebook(hide_banner=True)"
   ]
  },
  {
   "cell_type": "code",
   "execution_count": 7,
   "metadata": {
    "collapsed": false,
    "extensions": {
     "jupyter_dashboards": {
      "version": 1,
      "views": {
       "grid_default": {
        "hidden": true
       },
       "report_default": {}
      }
     }
    }
   },
   "outputs": [],
   "source": [
    "fertility_df, life_expectancy_df, population_df_size, regions_df, years, regions_list = process_data()\n",
    "\n",
    "p = pd.Panel({'fertility': fertility_df, 'life': life_expectancy_df,\n",
    "              'population': population_df_size})\n",
    "\n",
    "data = {}\n",
    "region_name = regions_df.Group\n",
    "region_name.name = 'region'\n",
    "\n",
    "for year in years:\n",
    "    df = pd.concat([p.loc[:, :, year], region_name], axis=1).reset_index()\n",
    "    data[year] = df.to_dict('series')\n",
    "\n",
    "source = ColumnDataSource(data=data[years[0]])"
   ]
  },
  {
   "cell_type": "code",
   "execution_count": 8,
   "metadata": {
    "collapsed": false,
    "extensions": {
     "jupyter_dashboards": {
      "version": 1,
      "views": {
       "grid_default": {
        "hidden": true
       },
       "report_default": {}
      }
     }
    }
   },
   "outputs": [],
   "source": [
    "plot = figure(\n",
    "    x_range=(1, 9), \n",
    "    y_range=(20, 100),\n",
    "    title='Gapminder Reborn', \n",
    "    plot_height=300,\n",
    "    sizing_mode='scale_width',\n",
    ")\n",
    "\n",
    "plot.background_fill_alpha = 0\n",
    "plot.border_fill_alpha = 0\n",
    "\n",
    "plot.title.text_font = 'Verdana'\n",
    "plot.title.text_font_size = '30pt'\n",
    "plot.title.text_color = 'steelblue'\n",
    "\n",
    "plot.xaxis.axis_label = \"Children per woman (total fertility)\"\n",
    "plot.yaxis.axis_label = \"Life expectancy at birth (years)\"\n",
    "\n",
    "label = Label(x=1.1, y=18, text=str(years[0]), text_font_size='70pt', text_color='steelblue')\n",
    "plot.add_layout(label)\n",
    "\n",
    "color_mapper = CategoricalColorMapper(palette=Spectral6, factors=regions_list)\n",
    "plot.circle(\n",
    "    x='fertility',\n",
    "    y='life',\n",
    "    size='population',\n",
    "    source=source,\n",
    "    fill_color={'field': 'region', 'transform': color_mapper},\n",
    "    fill_alpha=0.8,\n",
    "    line_color='#7c7e71',\n",
    "    line_width=0.5,\n",
    "    line_alpha=0.5,\n",
    "    legend='region',\n",
    "    hover_fill_alpha=0.3,\n",
    "    hover_fill_color={'field': 'region', 'transform': color_mapper}\n",
    " )\n",
    "plot.add_tools(HoverTool(tooltips=\"@index\", show_arrow=False, point_policy='follow_mouse'))"
   ]
  },
  {
   "cell_type": "code",
   "execution_count": 9,
   "metadata": {
    "collapsed": true,
    "extensions": {
     "jupyter_dashboards": {
      "version": 1,
      "views": {
       "grid_default": {
        "hidden": true
       },
       "report_default": {}
      }
     }
    }
   },
   "outputs": [],
   "source": [
    "plot.legend.background_fill_color = \"steelblue\"\n",
    "plot.legend.background_fill_alpha = 0.1"
   ]
  },
  {
   "cell_type": "code",
   "execution_count": 10,
   "metadata": {
    "collapsed": false,
    "extensions": {
     "jupyter_dashboards": {
      "version": 1,
      "views": {
       "grid_default": {
        "col": 0,
        "height": 23,
        "hidden": false,
        "row": 0,
        "width": 8
       },
       "report_default": {}
      }
     }
    }
   },
   "outputs": [
    {
     "data": {
      "text/html": [
       "\n",
       "\n",
       "    <div class=\"bk-root\">\n",
       "        <div class=\"bk-plotdiv\" id=\"00ac4338-86aa-4fa0-8163-4898c383c270\"></div>\n",
       "    </div>\n",
       "<script type=\"text/javascript\">\n",
       "  \n",
       "  (function(global) {\n",
       "    function now() {\n",
       "      return new Date();\n",
       "    }\n",
       "  \n",
       "    var force = false;\n",
       "  \n",
       "    if (typeof (window._bokeh_onload_callbacks) === \"undefined\" || force === true) {\n",
       "      window._bokeh_onload_callbacks = [];\n",
       "      window._bokeh_is_loading = undefined;\n",
       "    }\n",
       "  \n",
       "  \n",
       "    \n",
       "    if (typeof (window._bokeh_timeout) === \"undefined\" || force === true) {\n",
       "      window._bokeh_timeout = Date.now() + 0;\n",
       "      window._bokeh_failed_load = false;\n",
       "    }\n",
       "  \n",
       "    var NB_LOAD_WARNING = {'data': {'text/html':\n",
       "       \"<div style='background-color: #fdd'>\\n\"+\n",
       "       \"<p>\\n\"+\n",
       "       \"BokehJS does not appear to have successfully loaded. If loading BokehJS from CDN, this \\n\"+\n",
       "       \"may be due to a slow or bad network connection. Possible fixes:\\n\"+\n",
       "       \"</p>\\n\"+\n",
       "       \"<ul>\\n\"+\n",
       "       \"<li>re-rerun `output_notebook()` to attempt to load from CDN again, or</li>\\n\"+\n",
       "       \"<li>use INLINE resources instead, as so:</li>\\n\"+\n",
       "       \"</ul>\\n\"+\n",
       "       \"<code>\\n\"+\n",
       "       \"from bokeh.resources import INLINE\\n\"+\n",
       "       \"output_notebook(resources=INLINE)\\n\"+\n",
       "       \"</code>\\n\"+\n",
       "       \"</div>\"}};\n",
       "  \n",
       "    function display_loaded() {\n",
       "      if (window.Bokeh !== undefined) {\n",
       "        var el = document.getElementById(\"00ac4338-86aa-4fa0-8163-4898c383c270\");\n",
       "        el.textContent = \"BokehJS \" + Bokeh.version + \" successfully loaded.\";\n",
       "      } else if (Date.now() < window._bokeh_timeout) {\n",
       "        setTimeout(display_loaded, 100)\n",
       "      }\n",
       "    }if ((window.Jupyter !== undefined) && Jupyter.notebook.kernel) {\n",
       "      comm_manager = Jupyter.notebook.kernel.comm_manager\n",
       "      comm_manager.register_target(\"b2c590cf-dc1d-452e-8a3c-3e378f6b8b2b\", function () {});\n",
       "    }\n",
       "  \n",
       "    function run_callbacks() {\n",
       "      window._bokeh_onload_callbacks.forEach(function(callback) { callback() });\n",
       "      delete window._bokeh_onload_callbacks\n",
       "      console.info(\"Bokeh: all callbacks have finished\");\n",
       "    }\n",
       "  \n",
       "    function load_libs(js_urls, callback) {\n",
       "      window._bokeh_onload_callbacks.push(callback);\n",
       "      if (window._bokeh_is_loading > 0) {\n",
       "        console.log(\"Bokeh: BokehJS is being loaded, scheduling callback at\", now());\n",
       "        return null;\n",
       "      }\n",
       "      if (js_urls == null || js_urls.length === 0) {\n",
       "        run_callbacks();\n",
       "        return null;\n",
       "      }\n",
       "      console.log(\"Bokeh: BokehJS not loaded, scheduling load and callback at\", now());\n",
       "      window._bokeh_is_loading = js_urls.length;\n",
       "      for (var i = 0; i < js_urls.length; i++) {\n",
       "        var url = js_urls[i];\n",
       "        var s = document.createElement('script');\n",
       "        s.src = url;\n",
       "        s.async = false;\n",
       "        s.onreadystatechange = s.onload = function() {\n",
       "          window._bokeh_is_loading--;\n",
       "          if (window._bokeh_is_loading === 0) {\n",
       "            console.log(\"Bokeh: all BokehJS libraries loaded\");\n",
       "            run_callbacks()\n",
       "          }\n",
       "        };\n",
       "        s.onerror = function() {\n",
       "          console.warn(\"failed to load library \" + url);\n",
       "        };\n",
       "        console.log(\"Bokeh: injecting script tag for BokehJS library: \", url);\n",
       "        document.getElementsByTagName(\"head\")[0].appendChild(s);\n",
       "      }\n",
       "    };var element = document.getElementById(\"00ac4338-86aa-4fa0-8163-4898c383c270\");\n",
       "    if (element == null) {\n",
       "      console.log(\"Bokeh: ERROR: autoload.js configured with elementid '00ac4338-86aa-4fa0-8163-4898c383c270' but no matching script tag was found. \")\n",
       "      return false;\n",
       "    }\n",
       "  \n",
       "    var js_urls = [];\n",
       "  \n",
       "    var inline_js = [\n",
       "      function(Bokeh) {\n",
       "        (function() {\n",
       "          var fn = function() {\n",
       "            var docs_json = {\"0f6e1332-88c4-4b36-849f-b3009ea7c879\":{\"roots\":{\"references\":[{\"attributes\":{},\"id\":\"0ebe8c20-5945-49c7-a134-bee06f5b376e\",\"type\":\"ToolEvents\"},{\"attributes\":{},\"id\":\"88838095-532f-4ea3-bec2-3bd150ff636b\",\"type\":\"BasicTickFormatter\"},{\"attributes\":{\"factors\":[\"Sub-Saharan Africa\",\"South Asia\",\"Middle East & North Africa\",\"America\",\"Europe & Central Asia\",\"East Asia & Pacific\"],\"palette\":[\"#3288bd\",\"#99d594\",\"#e6f598\",\"#fee08b\",\"#fc8d59\",\"#d53e4f\"]},\"id\":\"6af559a9-5e20-45fa-8e7b-007dd071766d\",\"type\":\"CategoricalColorMapper\"},{\"attributes\":{},\"id\":\"81c86a7d-4ebd-4729-bd3f-95b723f53def\",\"type\":\"BasicTickFormatter\"},{\"attributes\":{\"active_drag\":\"auto\",\"active_scroll\":\"auto\",\"active_tap\":\"auto\",\"tools\":[{\"id\":\"2a40b87f-06be-4ba2-9f74-b2e36e0dbfd1\",\"type\":\"PanTool\"},{\"id\":\"6291d63b-6319-48c7-b8c4-e65ab8f901b8\",\"type\":\"WheelZoomTool\"},{\"id\":\"0d083fc4-c4b3-44bd-915f-d50918654155\",\"type\":\"BoxZoomTool\"},{\"id\":\"48fb9aca-51d6-453a-a2de-0f62eade80b8\",\"type\":\"SaveTool\"},{\"id\":\"bf0668ba-a7f9-4b81-bcae-44c8fc1192ea\",\"type\":\"ResetTool\"},{\"id\":\"ff130a56-4c87-4be6-ad0b-db7d6faa7193\",\"type\":\"HelpTool\"},{\"id\":\"fb9d440d-ee06-4d4a-9cea-85d6c49c2765\",\"type\":\"HoverTool\"}]},\"id\":\"632b8659-d173-48eb-999d-78244b20efd6\",\"type\":\"Toolbar\"},{\"attributes\":{\"plot\":{\"id\":\"94ecbcf4-c26e-4434-9927-3eb17fea6677\",\"subtype\":\"Figure\",\"type\":\"Plot\"}},\"id\":\"bf0668ba-a7f9-4b81-bcae-44c8fc1192ea\",\"type\":\"ResetTool\"},{\"attributes\":{\"fill_alpha\":{\"value\":0.8},\"fill_color\":{\"field\":\"region\",\"transform\":{\"id\":\"6af559a9-5e20-45fa-8e7b-007dd071766d\",\"type\":\"CategoricalColorMapper\"}},\"line_alpha\":{\"value\":0.5},\"line_color\":{\"value\":\"#7c7e71\"},\"line_width\":{\"value\":0.5},\"size\":{\"field\":\"population\",\"units\":\"screen\"},\"x\":{\"field\":\"fertility\"},\"y\":{\"field\":\"life\"}},\"id\":\"1502bdad-bf75-428d-ad86-df87c21e3df8\",\"type\":\"Circle\"},{\"attributes\":{\"data_source\":{\"id\":\"65d195e6-189b-4922-a044-149297dc3f5c\",\"type\":\"ColumnDataSource\"},\"glyph\":{\"id\":\"1502bdad-bf75-428d-ad86-df87c21e3df8\",\"type\":\"Circle\"},\"hover_glyph\":{\"id\":\"08610b6b-cc16-4d3d-aca0-fb2b9364d406\",\"type\":\"Circle\"},\"muted_glyph\":null,\"nonselection_glyph\":{\"id\":\"79af5190-fb69-4bbd-8533-5ae60f43fc87\",\"type\":\"Circle\"},\"selection_glyph\":null},\"id\":\"9ba39e34-768b-49e4-a6f9-a7b6c210ed0c\",\"type\":\"GlyphRenderer\"},{\"attributes\":{\"plot\":{\"id\":\"94ecbcf4-c26e-4434-9927-3eb17fea6677\",\"subtype\":\"Figure\",\"type\":\"Plot\"}},\"id\":\"6291d63b-6319-48c7-b8c4-e65ab8f901b8\",\"type\":\"WheelZoomTool\"},{\"attributes\":{},\"id\":\"a82ea159-8f65-4914-8bb1-2b3d15ab1428\",\"type\":\"BasicTicker\"},{\"attributes\":{\"callback\":null,\"end\":9,\"start\":1},\"id\":\"df0f0662-328b-4822-85b9-943ae0e951aa\",\"type\":\"Range1d\"},{\"attributes\":{\"bottom_units\":\"screen\",\"fill_alpha\":{\"value\":0.5},\"fill_color\":{\"value\":\"lightgrey\"},\"left_units\":\"screen\",\"level\":\"overlay\",\"line_alpha\":{\"value\":1.0},\"line_color\":{\"value\":\"black\"},\"line_dash\":[4,4],\"line_width\":{\"value\":2},\"plot\":null,\"render_mode\":\"css\",\"right_units\":\"screen\",\"top_units\":\"screen\"},\"id\":\"5baf79c3-9deb-4b09-90a6-4dc8ceb8278d\",\"type\":\"BoxAnnotation\"},{\"attributes\":{\"overlay\":{\"id\":\"5baf79c3-9deb-4b09-90a6-4dc8ceb8278d\",\"type\":\"BoxAnnotation\"},\"plot\":{\"id\":\"94ecbcf4-c26e-4434-9927-3eb17fea6677\",\"subtype\":\"Figure\",\"type\":\"Plot\"}},\"id\":\"0d083fc4-c4b3-44bd-915f-d50918654155\",\"type\":\"BoxZoomTool\"},{\"attributes\":{\"background_fill_alpha\":{\"value\":0.1},\"background_fill_color\":{\"value\":\"steelblue\"},\"items\":[{\"id\":\"bf92c601-123c-41ca-a1d6-d77e4efb6e28\",\"type\":\"LegendItem\"}],\"plot\":{\"id\":\"94ecbcf4-c26e-4434-9927-3eb17fea6677\",\"subtype\":\"Figure\",\"type\":\"Plot\"}},\"id\":\"68f80ae9-634b-486d-a99a-766d2cdfce77\",\"type\":\"Legend\"},{\"attributes\":{\"plot\":{\"id\":\"94ecbcf4-c26e-4434-9927-3eb17fea6677\",\"subtype\":\"Figure\",\"type\":\"Plot\"}},\"id\":\"ff130a56-4c87-4be6-ad0b-db7d6faa7193\",\"type\":\"HelpTool\"},{\"attributes\":{\"plot\":null,\"text\":\"Gapminder Reborn\",\"text_color\":{\"value\":\"steelblue\"},\"text_font\":\"Verdana\",\"text_font_size\":{\"value\":\"30pt\"}},\"id\":\"bec02e67-777b-414a-a2fb-5ef8be89e60a\",\"type\":\"Title\"},{\"attributes\":{\"plot\":{\"id\":\"94ecbcf4-c26e-4434-9927-3eb17fea6677\",\"subtype\":\"Figure\",\"type\":\"Plot\"},\"text\":\"1964\",\"text_color\":{\"value\":\"steelblue\"},\"text_font_size\":{\"value\":\"70pt\"},\"x\":1.1,\"y\":18},\"id\":\"bd654f5d-172e-4066-92ca-fa189eb85f8d\",\"type\":\"Label\"},{\"attributes\":{\"plot\":{\"id\":\"94ecbcf4-c26e-4434-9927-3eb17fea6677\",\"subtype\":\"Figure\",\"type\":\"Plot\"}},\"id\":\"48fb9aca-51d6-453a-a2de-0f62eade80b8\",\"type\":\"SaveTool\"},{\"attributes\":{},\"id\":\"4cc9c9b7-5c5b-4da3-89db-38adf015e2f1\",\"type\":\"BasicTicker\"},{\"attributes\":{\"dimension\":1,\"plot\":{\"id\":\"94ecbcf4-c26e-4434-9927-3eb17fea6677\",\"subtype\":\"Figure\",\"type\":\"Plot\"},\"ticker\":{\"id\":\"a82ea159-8f65-4914-8bb1-2b3d15ab1428\",\"type\":\"BasicTicker\"}},\"id\":\"038bd4f9-2998-4b6a-8f5a-5b170d1ff185\",\"type\":\"Grid\"},{\"attributes\":{\"callback\":null,\"column_names\":[\"fertility\",\"region\",\"population\",\"index\",\"life\"],\"data\":{\"fertility\":{\"__ndarray__\":\"yXa+nxqvHkDy0k1iENgWQOkmMQisnB5AAAAAAAAA+H8AAAAAAAD4fzMzMzMzsx1AAAAAAAAA+H8AAAAAAAARQCUGgZVDiwhAv58aL92kEEAj2/l+ajwQQAisHFpkOwlAXI/C9ShcBkCsHFpkO98VQOF6FK5H4RBA+FPjpZvEHEC28/3UeGkbQMZLN4lBYBBAAyuHFtnOBECXbhKDwMoEQK5H4XoUrhlAsXJoke38GUAAAAAAAAD4f65H4XoUrhpAIbByaJFtGkDAyqFFtvMMQNNNYhBYuRpAHFpkO9/PF0AAAAAAAAD4f5zEILBy6BhAppvEILByAUAOLbKd76cZQFpkO99PjRxAiUFg5dCiG0CPwvUoXI8XQLTIdr6fGgxA2/l+arz0G0AAAAAAAAD4fzMzMzMzsxdAEoPAyqFFGUCcxCCwcmgEQD0K16NwvRRAexSuR+F6GEAAAAAAAAD4fwAAAAAAAPh/v58aL92kGkBmZmZmZuYbQPhT46WbRBhA001iEFg5GEAAAAAAAAD4fyUGgZVDixtAdJMYBFaOHkDjpZvEILABQN9PjZdukhJAyqFFtvP9CUCWQ4ts5/sAQDeJQWDl0ARA4XoUrkdhGkAAAAAAAAD4f3Noke18vxxAQWDl0CJbGkD8qfHSTeIZQLKd76fGyxpASOF6FK5HFkDpJjEIrBwbQHNoke18P/8/LIcW2c53G0AAAAAAAAD4fwAAAAAAAPh/TmIQWDm0FkCkcD0K16MEQGZmZmZmZgZA6Pup8dJNFEBFtvP91HgVQC2yne+nxhJAtMh2vp8aF0C28/3UeOkGQMHKoUW28wNA30+Nl26SG0AAAAAAAAD4f99PjZduEgJAFK5H4XoUHUA6tMh2vp8XQA4tsp3vJxZArkfhehSuFkAj2/l+arwZQAAAAAAAAPh/oBov3SSGGEBI4XoUrkcVQDeJQWDlUBVAO99PjZfuGEAAAAAAAAD4fxKDwMqhxR1AokW28/1UE0BqvHSTGAT+PxfZzvdT4w1A7nw/NV46F0DKoUW2830WQEW28/3UeBtAsXJoke18G0BMN4lBYOUPQAAAAAAAAPh/76fGSzeJDkAAAAAAAAAEQJqZmZmZGRdAhetRuB6F/z8AAAAAAAD4f8QgsHJoESBA6Pup8dLNEEDb+X5qvDQgQOj7qfHSzRxASgwCK4cWEEAhsHJokW0VQAAAAAAAAPh/oBov3SSGHUD4U+Olm0QVQPyp8dJN4hdAtMh2vp8a/T+hRbbz/VQWQNNNYhBYORdAAAAAAAAAGkBOYhBYObQeQAAAAAAAAPh/oBov3SQGA0DLoUW28/0CQJzEILByaA9AxSCwcmiRC0AzMzMzMzMdQD0K16NwPRxACKwcWmQ7F0Cd76fGS7ccQHjpJjEILBtA/Knx0k1iBkAAAAAAAAD4f8DKoUW2cxVAGARWDi0yG0CkcD0K1yMXQKRwPQrXox9AxSCwcmgRG0DfT42XbpIbQLbz/dR46QdAAAAAAAAA+H8IrBxaZDseQFg5tMh2vghAAAAAAAAA+H9g5dAi23kcQJzEILByaBpAhetRuB6FGEB3vp8aL90YQAAAAAAAAPh/sXJoke38F0Bcj8L1KFwJQD0K16NwPRBA4XoUrkfhFEB798d71coJQGmR7Xw/NRxAPQrXo3C9HEDy0k1iEFgZQAAAAAAAAPh/AAAAAAAA+H8AAAAAAAD4fwAAAAAAAPh/rkfhehSuB0BaZDvfTw0dQGZmZmZmZhpAAAAAAAAA+H+IFtnO99MWQN9PjZduEhlApHA9CtejGUAzMzMzMzMbQCyHFtnOdxtAAAAAAAAA+H8AAAAAAAAEQE+Nl24SgwlAzczMzMxMEEBxPQrXo/AbQARWDi2ynRlAPqj0ZYMm/z9I4XoUrkcBQEw3iUFgZSBAAAAAAAAA+H8AAAAAAAD4fwAAAAAAAPh/1HjpJjEIG0AAAAAAAAD4fxsv3SQGgRtAAAAAAAAA+H/4U+Olm0QeQAAAAAAAAPh/AyuHFtlOGUC7SQwCKwcdQNv5fmq8dBxAiUFg5dAiBEAAAAAAAAD4f7tJDAIrBxdAaZHtfD81GUBvEoPAyqESQAisHFpkOwZAuB6F61G4AkD6fmq8dJMZQCUGgZVDCx1AVg4tsp3vF0A6tMh2vh8bQM/3U+OlmwZA+FPjpZtEFEDazvdT4yUbQNrO91PjpRlAAAAAAAAA+H9U46WbxCAbQM3MzMzMzANAT42XbhKDBEC4HoXrUTgeQE+Nl24SgxRACKwcWmS7GUBOYhBYOTQbQLTIdr6fmhhAF9nO91NjGUBWDi2yne8aQAAAAAAAAPh/LIcW2c53HEAOLbKd76cSQCGwcmiRbRxABFYOLbIdGEDz/dR46aYaQAAAAAAAAPh/AAAAAAAA+H8cWmQ7308cQI/C9ShcjwBAjGzn+6lxG0CIFtnO91MGQC2yne+nxglAd76fGi/dBkDP91PjpRsbQPLSTWIQWBtAexSuR+H6GUBBYOXQItsZQJduEoPAyhZAAAAAAAAA+H+iRbbz/RQgQHNoke18PxpACtejcD2KHUD2KFyPwvUcQBfZzvdTYx1AAAAAAAAA+H8=\",\"dtype\":\"float64\",\"shape\":[244]},\"index\":[\"Afghanistan\",\"Albania\",\"Algeria\",\"American Samoa\",\"Andorra\",\"Angola\",\"Anguilla\",\"Antigua and Barbuda\",\"Argentina\",\"Armenia\",\"Aruba\",\"Australia\",\"Austria\",\"Azerbaijan\",\"Bahamas\",\"Bahrain\",\"Bangladesh\",\"Barbados\",\"Belarus\",\"Belgium\",\"Belize\",\"Benin\",\"Bermuda\",\"Bhutan\",\"Bolivia\",\"Bosnia and Herzegovina\",\"Botswana\",\"Brazil\",\"British Virgin Islands\",\"Brunei\",\"Bulgaria\",\"Burkina Faso\",\"Burundi\",\"Cambodia\",\"Cameroon\",\"Canada\",\"Cape Verde\",\"Cayman Islands\",\"Central African Rep.\",\"Chad\",\"Channel Islands\",\"Chile\",\"China\",\"Christmas Island\",\"Cocos Island\",\"Colombia\",\"Comoros\",\"Congo, Dem. Rep.\",\"Congo, Rep.\",\"Cook Islands\",\"Costa Rica\",\"Cote d'Ivoire\",\"Croatia\",\"Cuba\",\"Cyprus\",\"Czech Rep.\",\"Denmark\",\"Djibouti\",\"Dominica\",\"Dominican Rep.\",\"Ecuador\",\"Egypt\",\"El Salvador\",\"Equatorial Guinea\",\"Eritrea\",\"Estonia\",\"Ethiopia\",\"Faeroe Islands\",\"Falkland Islands (Malvinas)\",\"Fiji\",\"Finland\",\"France\",\"French Guiana\",\"French Polynesia\",\"Gabon\",\"Gambia\",\"Georgia\",\"Germany\",\"Ghana\",\"Gibraltar\",\"Greece\",\"Greenland\",\"Grenada\",\"Guadeloupe\",\"Guam\",\"Guatemala\",\"Guernsey\",\"Guinea\",\"Guinea-Bissau\",\"Guyana\",\"Haiti\",\"Holy See\",\"Honduras\",\"Hong Kong, China\",\"Hungary\",\"Iceland\",\"India\",\"Indonesia\",\"Iran\",\"Iraq\",\"Ireland\",\"Isle of Man\",\"Israel\",\"Italy\",\"Jamaica\",\"Japan\",\"Jersey\",\"Jordan\",\"Kazakhstan\",\"Kenya\",\"Kiribati\",\"Korea, Dem. Rep.\",\"Korea, Rep.\",\"Kosovo\",\"Kuwait\",\"Kyrgyzstan\",\"Laos\",\"Latvia\",\"Lebanon\",\"Lesotho\",\"Liberia\",\"Libya\",\"Liechtenstein\",\"Lithuania\",\"Luxembourg\",\"Macao, China\",\"Macedonia, FYR\",\"Madagascar\",\"Malawi\",\"Malaysia\",\"Maldives\",\"Mali\",\"Malta\",\"Marshall Islands\",\"Martinique\",\"Mauritania\",\"Mauritius\",\"Mayotte\",\"Mexico\",\"Micronesia, Fed. Sts.\",\"Moldova\",\"Monaco\",\"Mongolia\",\"Montenegro\",\"Montserrat\",\"Morocco\",\"Mozambique\",\"Myanmar\",\"Namibia\",\"Nauru\",\"Nepal\",\"Netherlands\",\"Netherlands Antilles\",\"New Caledonia\",\"New Zealand\",\"Nicaragua\",\"Niger\",\"Nigeria\",\"Niue\",\"Norfolk Island\",\"Northern Cyprus\",\"Northern Mariana Islands\",\"Norway\",\"Oman\",\"Pakistan\",\"Palau\",\"Panama\",\"Papua New Guinea\",\"Paraguay\",\"Peru\",\"Philippines\",\"Pitcairn\",\"Poland\",\"Portugal\",\"Puerto Rico\",\"Qatar\",\"Reunion\",\"Romania\",\"Russia\",\"Rwanda\",\"Saint Barth\\u00e9lemy\",\"Saint Helena\",\"Saint Kitts and Nevis\",\"Saint Lucia\",\"Saint Martin\",\"Saint Vincent and the Grenadines\",\"Saint-Pierre-et-Miquelon\",\"Samoa\",\"San Marino\",\"Sao Tome and Principe\",\"Saudi Arabia\",\"Senegal\",\"Serbia\",\"Serbia excluding Kosovo\",\"Seychelles\",\"Sierra Leone\",\"Singapore\",\"Slovak Republic\",\"Slovenia\",\"Solomon Islands\",\"Somalia\",\"South Africa\",\"South Sudan\",\"Spain\",\"Sri Lanka\",\"Sudan\",\"Suriname\",\"Svalbard\",\"Swaziland\",\"Sweden\",\"Switzerland\",\"Syria\",\"Taiwan\",\"Tajikistan\",\"Tanzania\",\"Thailand\",\"Timor-Leste\",\"Togo\",\"Tokelau\",\"Tonga\",\"Trinidad and Tobago\",\"Tunisia\",\"Turkey\",\"Turkmenistan\",\"Turks and Caicos Islands\",\"Tuvalu\",\"Uganda\",\"Ukraine\",\"United Arab Emirates\",\"United Kingdom\",\"United States\",\"Uruguay\",\"Uzbekistan\",\"Vanuatu\",\"Venezuela\",\"Vietnam\",\"Virgin Islands (U.S.)\",\"Wallis et Futuna\",\"West Bank and Gaza\",\"Western Sahara\",\"Yemen, Rep.\",\"Zambia\",\"Zimbabwe\",\"\\u00c5land\"],\"life\":{\"__ndarray__\":\"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\",\"dtype\":\"float64\",\"shape\":[244]},\"population\":{\"__ndarray__\":\"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\",\"dtype\":\"float64\",\"shape\":[244]},\"region\":[\"South Asia\",\"Europe & Central Asia\",\"Middle East & North Africa\",\"East Asia & Pacific\",\"Europe & Central Asia\",\"Sub-Saharan Africa\",\"America\",\"America\",\"America\",\"Europe & Central Asia\",\"America\",\"East Asia & Pacific\",\"Europe & Central Asia\",\"Europe & Central Asia\",\"America\",\"Middle East & North Africa\",\"South Asia\",\"America\",\"Europe & Central Asia\",\"Europe & Central Asia\",\"America\",\"Sub-Saharan Africa\",\"America\",\"South Asia\",\"America\",\"Europe & Central Asia\",\"Sub-Saharan Africa\",\"America\",\"America\",\"East Asia & Pacific\",\"Europe & Central Asia\",\"Sub-Saharan Africa\",\"Sub-Saharan Africa\",\"East Asia & Pacific\",\"Sub-Saharan Africa\",\"America\",\"Sub-Saharan Africa\",\"America\",\"Sub-Saharan Africa\",\"Sub-Saharan Africa\",\"Europe & Central Asia\",\"America\",\"East Asia & Pacific\",\"East Asia & Pacific\",\"East Asia & Pacific\",\"America\",\"Sub-Saharan Africa\",\"Sub-Saharan Africa\",\"Sub-Saharan Africa\",\"East Asia & Pacific\",\"America\",\"Sub-Saharan Africa\",\"Europe & Central Asia\",\"America\",\"Europe & Central Asia\",\"Europe & Central Asia\",\"Europe & Central Asia\",\"Middle East & North Africa\",\"America\",\"America\",\"America\",\"Middle East & North Africa\",\"America\",\"Sub-Saharan Africa\",\"Sub-Saharan Africa\",\"Europe & Central Asia\",\"Sub-Saharan Africa\",\"Europe & Central Asia\",\"America\",\"East Asia & Pacific\",\"Europe & Central Asia\",\"Europe & Central Asia\",\"America\",\"East Asia & Pacific\",\"Sub-Saharan Africa\",\"Sub-Saharan Africa\",\"Europe & Central Asia\",\"Europe & Central Asia\",\"Sub-Saharan Africa\",\"Europe & Central Asia\",\"Europe & Central Asia\",\"Europe & Central Asia\",\"America\",\"America\",\"East Asia & Pacific\",\"America\",\"Europe & Central Asia\",\"Sub-Saharan Africa\",\"Sub-Saharan Africa\",\"America\",\"America\",\"Europe & Central Asia\",\"America\",\"East Asia & Pacific\",\"Europe & Central Asia\",\"Europe & Central Asia\",\"South Asia\",\"East Asia & Pacific\",\"Middle East & North Africa\",\"Middle East & North Africa\",\"Europe & Central Asia\",\"Europe & Central Asia\",\"Middle East & North Africa\",\"Europe & Central Asia\",\"America\",\"East Asia & Pacific\",\"Europe & Central Asia\",\"Middle East & North Africa\",\"Europe & Central Asia\",\"Sub-Saharan Africa\",\"East Asia & Pacific\",\"East Asia & Pacific\",\"East Asia & Pacific\",\"Europe & Central Asia\",\"Middle East & North Africa\",\"Europe & Central Asia\",\"East Asia & Pacific\",\"Europe & Central Asia\",\"Middle East & North Africa\",\"Sub-Saharan Africa\",\"Sub-Saharan Africa\",\"Middle East & North Africa\",\"Europe & Central Asia\",\"Europe & Central Asia\",\"Europe & Central Asia\",\"East Asia & Pacific\",\"Europe & Central Asia\",\"Sub-Saharan Africa\",\"Sub-Saharan Africa\",\"East Asia & Pacific\",\"South Asia\",\"Sub-Saharan Africa\",\"Europe & Central Asia\",\"East Asia & Pacific\",\"America\",\"Sub-Saharan Africa\",\"Sub-Saharan Africa\",\"Sub-Saharan Africa\",\"America\",\"East Asia & Pacific\",\"Europe & Central Asia\",\"Europe & Central Asia\",\"East Asia & Pacific\",\"Europe & Central Asia\",\"America\",\"Middle East & North Africa\",\"Sub-Saharan Africa\",\"East Asia & Pacific\",\"Sub-Saharan Africa\",\"East Asia & Pacific\",\"South Asia\",\"Europe & Central Asia\",\"America\",\"East Asia & Pacific\",\"East Asia & Pacific\",\"America\",\"Sub-Saharan Africa\",\"Sub-Saharan Africa\",\"East Asia & Pacific\",\"East Asia & Pacific\",\"Europe & Central Asia\",\"East Asia & Pacific\",\"Europe & Central Asia\",\"Middle East & North Africa\",\"South Asia\",\"East Asia & Pacific\",\"America\",\"East Asia & Pacific\",\"America\",\"America\",\"East Asia & Pacific\",\"East Asia & Pacific\",\"Europe & Central Asia\",\"Europe & Central Asia\",\"America\",\"Middle East & North Africa\",\"Sub-Saharan Africa\",\"Europe & Central Asia\",\"Europe & Central Asia\",\"Sub-Saharan Africa\",\"America\",\"Sub-Saharan Africa\",\"America\",\"America\",\"America\",\"America\",\"America\",\"East Asia & Pacific\",\"Europe & Central Asia\",\"Sub-Saharan Africa\",\"Middle East & North Africa\",\"Sub-Saharan Africa\",\"Europe & Central Asia\",\"Europe & Central Asia\",\"Sub-Saharan Africa\",\"Sub-Saharan Africa\",\"East Asia & Pacific\",\"Europe & Central Asia\",\"Europe & Central Asia\",\"East Asia & Pacific\",\"Sub-Saharan Africa\",\"Sub-Saharan Africa\",\"Sub-Saharan Africa\",\"Europe & Central Asia\",\"South Asia\",\"Sub-Saharan Africa\",\"America\",\"Europe & Central Asia\",\"Sub-Saharan Africa\",\"Europe & Central Asia\",\"Europe & Central Asia\",\"Middle East & North Africa\",\"East Asia & Pacific\",\"Europe & Central Asia\",\"Sub-Saharan Africa\",\"East Asia & Pacific\",\"East Asia & Pacific\",\"Sub-Saharan Africa\",\"East Asia & Pacific\",\"East Asia & Pacific\",\"America\",\"Middle East & North Africa\",\"Europe & Central Asia\",\"Europe & Central Asia\",\"America\",\"East Asia & Pacific\",\"Sub-Saharan Africa\",\"Europe & Central Asia\",\"Middle East & North Africa\",\"Europe & Central Asia\",\"America\",\"America\",\"Europe & Central Asia\",\"East Asia & Pacific\",\"America\",\"East Asia & Pacific\",\"America\",\"East Asia & Pacific\",\"Middle East & North Africa\",\"Middle East & North Africa\",\"Middle East & North Africa\",\"Sub-Saharan Africa\",\"Sub-Saharan Africa\",\"Europe & Central Asia\"]}},\"id\":\"65d195e6-189b-4922-a044-149297dc3f5c\",\"type\":\"ColumnDataSource\"},{\"attributes\":{\"plot\":{\"id\":\"94ecbcf4-c26e-4434-9927-3eb17fea6677\",\"subtype\":\"Figure\",\"type\":\"Plot\"},\"ticker\":{\"id\":\"4cc9c9b7-5c5b-4da3-89db-38adf015e2f1\",\"type\":\"BasicTicker\"}},\"id\":\"35e7441c-bf3a-4865-92cd-e00dcf560fb9\",\"type\":\"Grid\"},{\"attributes\":{\"background_fill_alpha\":{\"value\":0},\"below\":[{\"id\":\"ad1d4e72-d313-4c89-bb2a-446a3231ed53\",\"type\":\"LinearAxis\"}],\"border_fill_alpha\":{\"value\":0},\"left\":[{\"id\":\"51139a0c-2357-4861-9071-2a1679e6fa5c\",\"type\":\"LinearAxis\"}],\"plot_height\":300,\"renderers\":[{\"id\":\"ad1d4e72-d313-4c89-bb2a-446a3231ed53\",\"type\":\"LinearAxis\"},{\"id\":\"35e7441c-bf3a-4865-92cd-e00dcf560fb9\",\"type\":\"Grid\"},{\"id\":\"51139a0c-2357-4861-9071-2a1679e6fa5c\",\"type\":\"LinearAxis\"},{\"id\":\"038bd4f9-2998-4b6a-8f5a-5b170d1ff185\",\"type\":\"Grid\"},{\"id\":\"5baf79c3-9deb-4b09-90a6-4dc8ceb8278d\",\"type\":\"BoxAnnotation\"},{\"id\":\"bd654f5d-172e-4066-92ca-fa189eb85f8d\",\"type\":\"Label\"},{\"id\":\"68f80ae9-634b-486d-a99a-766d2cdfce77\",\"type\":\"Legend\"},{\"id\":\"9ba39e34-768b-49e4-a6f9-a7b6c210ed0c\",\"type\":\"GlyphRenderer\"}],\"sizing_mode\":\"scale_width\",\"title\":{\"id\":\"bec02e67-777b-414a-a2fb-5ef8be89e60a\",\"type\":\"Title\"},\"tool_events\":{\"id\":\"0ebe8c20-5945-49c7-a134-bee06f5b376e\",\"type\":\"ToolEvents\"},\"toolbar\":{\"id\":\"632b8659-d173-48eb-999d-78244b20efd6\",\"type\":\"Toolbar\"},\"x_range\":{\"id\":\"df0f0662-328b-4822-85b9-943ae0e951aa\",\"type\":\"Range1d\"},\"y_range\":{\"id\":\"ff055166-0dad-4484-ae2b-fd3c2f2aade5\",\"type\":\"Range1d\"}},\"id\":\"94ecbcf4-c26e-4434-9927-3eb17fea6677\",\"subtype\":\"Figure\",\"type\":\"Plot\"},{\"attributes\":{\"plot\":{\"id\":\"94ecbcf4-c26e-4434-9927-3eb17fea6677\",\"subtype\":\"Figure\",\"type\":\"Plot\"}},\"id\":\"2a40b87f-06be-4ba2-9f74-b2e36e0dbfd1\",\"type\":\"PanTool\"},{\"attributes\":{\"axis_label\":\"Children per woman (total fertility)\",\"formatter\":{\"id\":\"88838095-532f-4ea3-bec2-3bd150ff636b\",\"type\":\"BasicTickFormatter\"},\"plot\":{\"id\":\"94ecbcf4-c26e-4434-9927-3eb17fea6677\",\"subtype\":\"Figure\",\"type\":\"Plot\"},\"ticker\":{\"id\":\"4cc9c9b7-5c5b-4da3-89db-38adf015e2f1\",\"type\":\"BasicTicker\"}},\"id\":\"ad1d4e72-d313-4c89-bb2a-446a3231ed53\",\"type\":\"LinearAxis\"},{\"attributes\":{\"fill_alpha\":{\"value\":0.1},\"fill_color\":{\"value\":\"#1f77b4\"},\"line_alpha\":{\"value\":0.1},\"line_color\":{\"value\":\"#1f77b4\"},\"line_width\":{\"value\":0.5},\"size\":{\"field\":\"population\",\"units\":\"screen\"},\"x\":{\"field\":\"fertility\"},\"y\":{\"field\":\"life\"}},\"id\":\"79af5190-fb69-4bbd-8533-5ae60f43fc87\",\"type\":\"Circle\"},{\"attributes\":{\"fill_alpha\":{\"value\":0.3},\"fill_color\":{\"field\":\"region\",\"transform\":{\"id\":\"6af559a9-5e20-45fa-8e7b-007dd071766d\",\"type\":\"CategoricalColorMapper\"}},\"line_color\":{\"value\":\"#1f77b4\"},\"line_width\":{\"value\":0.5},\"size\":{\"field\":\"population\",\"units\":\"screen\"},\"x\":{\"field\":\"fertility\"},\"y\":{\"field\":\"life\"}},\"id\":\"08610b6b-cc16-4d3d-aca0-fb2b9364d406\",\"type\":\"Circle\"},{\"attributes\":{\"callback\":null,\"plot\":{\"id\":\"94ecbcf4-c26e-4434-9927-3eb17fea6677\",\"subtype\":\"Figure\",\"type\":\"Plot\"},\"point_policy\":\"follow_mouse\",\"show_arrow\":false,\"tooltips\":\"@index\"},\"id\":\"fb9d440d-ee06-4d4a-9cea-85d6c49c2765\",\"type\":\"HoverTool\"},{\"attributes\":{\"label\":{\"field\":\"region\"},\"renderers\":[{\"id\":\"9ba39e34-768b-49e4-a6f9-a7b6c210ed0c\",\"type\":\"GlyphRenderer\"}]},\"id\":\"bf92c601-123c-41ca-a1d6-d77e4efb6e28\",\"type\":\"LegendItem\"},{\"attributes\":{\"axis_label\":\"Life expectancy at birth (years)\",\"formatter\":{\"id\":\"81c86a7d-4ebd-4729-bd3f-95b723f53def\",\"type\":\"BasicTickFormatter\"},\"plot\":{\"id\":\"94ecbcf4-c26e-4434-9927-3eb17fea6677\",\"subtype\":\"Figure\",\"type\":\"Plot\"},\"ticker\":{\"id\":\"a82ea159-8f65-4914-8bb1-2b3d15ab1428\",\"type\":\"BasicTicker\"}},\"id\":\"51139a0c-2357-4861-9071-2a1679e6fa5c\",\"type\":\"LinearAxis\"},{\"attributes\":{\"callback\":null,\"end\":100,\"start\":20},\"id\":\"ff055166-0dad-4484-ae2b-fd3c2f2aade5\",\"type\":\"Range1d\"}],\"root_ids\":[\"94ecbcf4-c26e-4434-9927-3eb17fea6677\"]},\"title\":\"Bokeh Application\",\"version\":\"0.12.5\"}};\n",
       "            var render_items = [{\"docid\":\"0f6e1332-88c4-4b36-849f-b3009ea7c879\",\"elementid\":\"00ac4338-86aa-4fa0-8163-4898c383c270\",\"modelid\":\"94ecbcf4-c26e-4434-9927-3eb17fea6677\",\"notebook_comms_target\":\"b2c590cf-dc1d-452e-8a3c-3e378f6b8b2b\"}];\n",
       "            \n",
       "            Bokeh.embed.embed_items(docs_json, render_items);\n",
       "          };\n",
       "          if (document.readyState != \"loading\") fn();\n",
       "          else document.addEventListener(\"DOMContentLoaded\", fn);\n",
       "        })();\n",
       "      },\n",
       "      function(Bokeh) {\n",
       "      }\n",
       "    ];\n",
       "  \n",
       "    function run_inline_js() {\n",
       "      \n",
       "      if ((window.Bokeh !== undefined) || (force === true)) {\n",
       "        for (var i = 0; i < inline_js.length; i++) {\n",
       "          inline_js[i](window.Bokeh);\n",
       "        }if (force === true) {\n",
       "          display_loaded();\n",
       "        }} else if (Date.now() < window._bokeh_timeout) {\n",
       "        setTimeout(run_inline_js, 100);\n",
       "      } else if (!window._bokeh_failed_load) {\n",
       "        console.log(\"Bokeh: BokehJS failed to load within specified timeout.\");\n",
       "        window._bokeh_failed_load = true;\n",
       "      } else if (force !== true) {\n",
       "        var cell = $(document.getElementById(\"00ac4338-86aa-4fa0-8163-4898c383c270\")).parents('.cell').data().cell;\n",
       "        cell.output_area.append_execute_result(NB_LOAD_WARNING)\n",
       "      }\n",
       "  \n",
       "    }\n",
       "  \n",
       "    if (window._bokeh_is_loading === 0) {\n",
       "      console.log(\"Bokeh: BokehJS loaded, going straight to plotting\");\n",
       "      run_inline_js();\n",
       "    } else {\n",
       "      load_libs(js_urls, function() {\n",
       "        console.log(\"Bokeh: BokehJS plotting callback run at\", now());\n",
       "        run_inline_js();\n",
       "      });\n",
       "    }\n",
       "  }(this));\n",
       "</script>"
      ]
     },
     "metadata": {},
     "output_type": "display_data"
    }
   ],
   "source": [
    "handle = show(plot, notebook_handle=True);"
   ]
  },
  {
   "cell_type": "code",
   "execution_count": 11,
   "metadata": {
    "collapsed": false,
    "extensions": {
     "jupyter_dashboards": {
      "version": 1,
      "views": {
       "grid_default": {
        "col": 8,
        "height": 3,
        "hidden": true,
        "row": 20,
        "width": 2
       },
       "report_default": {}
      }
     }
    }
   },
   "outputs": [
    {
     "name": "stderr",
     "output_type": "stream",
     "text": [
      "Widget Javascript not detected.  It may not be installed properly. Did you enable the widgetsnbextension? If not, then run \"jupyter nbextension enable --py --sys-prefix widgetsnbextension\"\n"
     ]
    }
   ],
   "source": [
    "slider = widgets.IntSlider(min=years[0], max=years[-1], value=1980, height='300px', description='Year', orientation='vertical')\n",
    "debug_widget = widgets.HTML('foo')\n",
    "display(debug_widget)"
   ]
  },
  {
   "cell_type": "code",
   "execution_count": 12,
   "metadata": {
    "collapsed": false,
    "extensions": {
     "jupyter_dashboards": {
      "version": 1,
      "views": {
       "grid_default": {
        "col": 8,
        "height": 16,
        "hidden": false,
        "row": 4,
        "width": 2
       },
       "report_default": {}
      }
     }
    }
   },
   "outputs": [
    {
     "name": "stderr",
     "output_type": "stream",
     "text": [
      "Widget Javascript not detected.  It may not be installed properly. Did you enable the widgetsnbextension? If not, then run \"jupyter nbextension enable --py --sys-prefix widgetsnbextension\"\n"
     ]
    }
   ],
   "source": [
    "@interact(year=slider)\n",
    "def update(year):\n",
    "    source.data = data[year]\n",
    "    label.text = str(year)\n",
    "    push_notebook(handle=handle)\n",
    "    debug_widget.value = '<h3>{} AD</h3>'.format(year)"
   ]
  },
  {
   "cell_type": "code",
   "execution_count": null,
   "metadata": {
    "collapsed": true,
    "extensions": {
     "jupyter_dashboards": {
      "version": 1,
      "views": {
       "grid_default": {
        "hidden": true
       },
       "report_default": {}
      }
     }
    }
   },
   "outputs": [],
   "source": []
  }
 ],
 "metadata": {
  "extensions": {
   "jupyter_dashboards": {
    "activeView": "grid_default",
    "version": 1,
    "views": {
     "grid_default": {
      "cellMargin": 10,
      "defaultCellHeight": 20,
      "maxColumns": 12,
      "name": "grid",
      "type": "grid"
     },
     "report_default": {
      "name": "report",
      "type": "report"
     }
    }
   }
  },
  "kernelspec": {
   "display_name": "Python 3",
   "language": "python",
   "name": "python3"
  },
  "language_info": {
   "codemirror_mode": {
    "name": "ipython",
    "version": 3
   },
   "file_extension": ".py",
   "mimetype": "text/x-python",
   "name": "python",
   "nbconvert_exporter": "python",
   "pygments_lexer": "ipython3",
   "version": "3.5.2"
  },
  "widgets": {
   "state": {
    "c4f721403c6e4d59b0be8e768dd6733a": {
     "views": [
      {
       "cell_index": 10
      }
     ]
    },
    "f67eccc54f14483e8c8c1f621e92ac0e": {
     "views": [
      {
       "cell_index": 11
      }
     ]
    }
   },
   "version": "1.2.0"
  }
 },
 "nbformat": 4,
 "nbformat_minor": 1
}
