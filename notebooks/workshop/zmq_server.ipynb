{
 "cells": [
  {
   "cell_type": "code",
   "execution_count": 19,
   "metadata": {
    "collapsed": true
   },
   "outputs": [],
   "source": [
    "import zmq\n",
    "import random\n",
    "import requests\n",
    "from bs4 import BeautifulSoup\n",
    "import numpy as np"
   ]
  },
  {
   "cell_type": "code",
   "execution_count": 33,
   "metadata": {
    "collapsed": true
   },
   "outputs": [],
   "source": [
    "FAKE_PARAMS = {\n",
    "    'FOO': (1e-4, 1e-1),\n",
    "    'BAR': (-1e-3, 1e-2),\n",
    "    'BAZ': (0, 1)\n",
    "}\n",
    "\n",
    "fake_states = {\n",
    "    'FOO': 100,\n",
    "    'BAR': 50,\n",
    "    'BAZ': 30\n",
    "}"
   ]
  },
  {
   "cell_type": "code",
   "execution_count": 21,
   "metadata": {
    "collapsed": true
   },
   "outputs": [],
   "source": [
    "def get_fake_price(ticker):\n",
    "    fake_states[ticker] += np.random.normal(*FAKE_PARAMS[ticker])\n",
    "    return fake_states[ticker]\n",
    "    "
   ]
  },
  {
   "cell_type": "code",
   "execution_count": 15,
   "metadata": {
    "collapsed": true
   },
   "outputs": [],
   "source": [
    "def get_price(ticker):\n",
    "    try:\n",
    "        html = requests.get(r'http://uk.finance.yahoo.com/quote/{}'.format(ticker), headers={'User-Agent': 'Mozilla/5.0 (Android 7.0)'}).text\n",
    "        soup = BeautifulSoup(html, 'html.parser')\n",
    "        return float(soup.findAll('section')[0].findAll('span')[0].text.replace(',', ''))\n",
    "    except ZeroDivisionError:\n",
    "        return None"
   ]
  },
  {
   "cell_type": "code",
   "execution_count": 3,
   "metadata": {
    "collapsed": true
   },
   "outputs": [],
   "source": [
    "def open_socket(port):\n",
    "    context = zmq.Context()\n",
    "    socket = context.socket(zmq.PUB)\n",
    "    socket.bind('tcp://*:{}'.format(port))\n",
    "    return socket"
   ]
  }
 ],
 "metadata": {
  "kernelspec": {
   "display_name": "Python 3",
   "language": "python",
   "name": "python3"
  },
  "language_info": {
   "codemirror_mode": {
    "name": "ipython",
    "version": 3
   },
   "file_extension": ".py",
   "mimetype": "text/x-python",
   "name": "python",
   "nbconvert_exporter": "python",
   "pygments_lexer": "ipython3",
   "version": "3.5.2"
  }
 },
 "nbformat": 4,
 "nbformat_minor": 1
}
