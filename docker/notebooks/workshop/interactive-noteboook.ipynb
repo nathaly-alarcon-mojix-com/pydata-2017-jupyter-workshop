{
 "cells": [
  {
   "cell_type": "code",
   "execution_count": 1,
   "metadata": {
    "collapsed": false,
    "extensions": {
     "jupyter_dashboards": {
      "version": 1,
      "views": {
       "grid_default": {
        "hidden": true
       },
       "report_default": {}
      }
     }
    }
   },
   "outputs": [
    {
     "data": {
      "application/javascript": [
       "$(\".repository-content, .container\").css(\"width\", \"90%\");\n",
       "$(\"body, #outer-dashboard, .navbar-default\").css(\"background-color\", \"honeydew\");\n",
       "$(\".navbar-default\").css(\"background-color\", \"lightblue\");"
      ],
      "text/plain": [
       "<IPython.core.display.Javascript object>"
      ]
     },
     "metadata": {},
     "output_type": "display_data"
    }
   ],
   "source": [
    "%%js\n",
    "$(\".repository-content, .container\").css(\"width\", \"90%\");\n",
    "$(\"body, #outer-dashboard, .navbar-default\").css(\"background-color\", \"honeydew\");\n",
    "$(\".navbar-default\").css(\"background-color\", \"lightblue\");"
   ]
  },
  {
   "cell_type": "code",
   "execution_count": 2,
   "metadata": {
    "collapsed": false,
    "extensions": {
     "jupyter_dashboards": {
      "version": 1,
      "views": {
       "grid_default": {
        "col": 0,
        "height": 18,
        "hidden": false,
        "row": 0,
        "width": 2
       },
       "report_default": {}
      }
     }
    }
   },
   "outputs": [
    {
     "data": {
      "text/html": [
       "<img src=\"//localhost:3010/files/img/pydata.png\">"
      ],
      "text/plain": [
       "<IPython.core.display.HTML object>"
      ]
     },
     "metadata": {},
     "output_type": "display_data"
    }
   ],
   "source": [
    "%%html\n",
    "<img src=\"//localhost:3010/files/img/pydata.png\">"
   ]
  },
  {
   "cell_type": "code",
   "execution_count": 3,
   "metadata": {
    "collapsed": false,
    "extensions": {
     "jupyter_dashboards": {
      "version": 1,
      "views": {
       "grid_default": {
        "hidden": true
       },
       "report_default": {}
      }
     }
    }
   },
   "outputs": [
    {
     "data": {
      "application/javascript": [
       "Jupyter.notebook.kernel.comm_manager.register_target(\n",
       "    'pydata_comm_channel', \n",
       "    function (comm, msg) {\n",
       "        comm.send({url: window.location.href});\n",
       "        console.log('Sending url');\n",
       "    });"
      ],
      "text/plain": [
       "<IPython.core.display.Javascript object>"
      ]
     },
     "metadata": {},
     "output_type": "display_data"
    }
   ],
   "source": [
    "%%js\n",
    "Jupyter.notebook.kernel.comm_manager.register_target(\n",
    "    'pydata_comm_channel', \n",
    "    function (comm, msg) {\n",
    "        comm.send({url: window.location.href});\n",
    "        console.log('Sending url');\n",
    "    });"
   ]
  },
  {
   "cell_type": "code",
   "execution_count": 4,
   "metadata": {
    "collapsed": false,
    "extensions": {
     "jupyter_dashboards": {
      "version": 1,
      "views": {
       "grid_default": {
        "hidden": true
       },
       "report_default": {}
      }
     }
    }
   },
   "outputs": [],
   "source": [
    "import datetime\n",
    "from math import pi\n",
    "import numpy as np\n",
    "\n",
    "import zmq\n",
    "from zmq.eventloop.zmqstream import ZMQStream\n",
    "\n",
    "from ipywidgets import interact, widgets\n",
    "from IPython.display import display\n",
    "from ipykernel.comm import Comm\n",
    "from urllib.parse import urlparse, parse_qs\n",
    "\n",
    "from bokeh.io import push_notebook\n",
    "from bokeh.models import ColumnDataSource\n",
    "from bokeh.models import DatetimeTickFormatter, HoverTool, DataRange1d\n",
    "from bokeh.plotting import figure, show, output_notebook"
   ]
  },
  {
   "cell_type": "code",
   "execution_count": 5,
   "metadata": {
    "collapsed": false,
    "extensions": {
     "jupyter_dashboards": {
      "version": 1,
      "views": {
       "grid_default": {
        "col": 8,
        "height": 4,
        "hidden": true,
        "row": 9,
        "width": 4
       },
       "report_default": {}
      }
     }
    }
   },
   "outputs": [
    {
     "data": {
      "text/html": []
     },
     "metadata": {},
     "output_type": "display_data"
    },
    {
     "data": {
      "application/javascript": [
       "\n",
       "(function(global) {\n",
       "  function now() {\n",
       "    return new Date();\n",
       "  }\n",
       "\n",
       "  var force = true;\n",
       "\n",
       "  if (typeof (window._bokeh_onload_callbacks) === \"undefined\" || force === true) {\n",
       "    window._bokeh_onload_callbacks = [];\n",
       "    window._bokeh_is_loading = undefined;\n",
       "  }\n",
       "\n",
       "\n",
       "  \n",
       "  if (typeof (window._bokeh_timeout) === \"undefined\" || force === true) {\n",
       "    window._bokeh_timeout = Date.now() + 5000;\n",
       "    window._bokeh_failed_load = false;\n",
       "  }\n",
       "\n",
       "  var NB_LOAD_WARNING = {'data': {'text/html':\n",
       "     \"<div style='background-color: #fdd'>\\n\"+\n",
       "     \"<p>\\n\"+\n",
       "     \"BokehJS does not appear to have successfully loaded. If loading BokehJS from CDN, this \\n\"+\n",
       "     \"may be due to a slow or bad network connection. Possible fixes:\\n\"+\n",
       "     \"</p>\\n\"+\n",
       "     \"<ul>\\n\"+\n",
       "     \"<li>re-rerun `output_notebook()` to attempt to load from CDN again, or</li>\\n\"+\n",
       "     \"<li>use INLINE resources instead, as so:</li>\\n\"+\n",
       "     \"</ul>\\n\"+\n",
       "     \"<code>\\n\"+\n",
       "     \"from bokeh.resources import INLINE\\n\"+\n",
       "     \"output_notebook(resources=INLINE)\\n\"+\n",
       "     \"</code>\\n\"+\n",
       "     \"</div>\"}};\n",
       "\n",
       "  function display_loaded() {\n",
       "    if (window.Bokeh !== undefined) {\n",
       "      var el = document.getElementById(\"\");\n",
       "      el.textContent = \"BokehJS \" + Bokeh.version + \" successfully loaded.\";\n",
       "    } else if (Date.now() < window._bokeh_timeout) {\n",
       "      setTimeout(display_loaded, 100)\n",
       "    }\n",
       "  }\n",
       "\n",
       "  function run_callbacks() {\n",
       "    window._bokeh_onload_callbacks.forEach(function(callback) { callback() });\n",
       "    delete window._bokeh_onload_callbacks\n",
       "    console.info(\"Bokeh: all callbacks have finished\");\n",
       "  }\n",
       "\n",
       "  function load_libs(js_urls, callback) {\n",
       "    window._bokeh_onload_callbacks.push(callback);\n",
       "    if (window._bokeh_is_loading > 0) {\n",
       "      console.log(\"Bokeh: BokehJS is being loaded, scheduling callback at\", now());\n",
       "      return null;\n",
       "    }\n",
       "    if (js_urls == null || js_urls.length === 0) {\n",
       "      run_callbacks();\n",
       "      return null;\n",
       "    }\n",
       "    console.log(\"Bokeh: BokehJS not loaded, scheduling load and callback at\", now());\n",
       "    window._bokeh_is_loading = js_urls.length;\n",
       "    for (var i = 0; i < js_urls.length; i++) {\n",
       "      var url = js_urls[i];\n",
       "      var s = document.createElement('script');\n",
       "      s.src = url;\n",
       "      s.async = false;\n",
       "      s.onreadystatechange = s.onload = function() {\n",
       "        window._bokeh_is_loading--;\n",
       "        if (window._bokeh_is_loading === 0) {\n",
       "          console.log(\"Bokeh: all BokehJS libraries loaded\");\n",
       "          run_callbacks()\n",
       "        }\n",
       "      };\n",
       "      s.onerror = function() {\n",
       "        console.warn(\"failed to load library \" + url);\n",
       "      };\n",
       "      console.log(\"Bokeh: injecting script tag for BokehJS library: \", url);\n",
       "      document.getElementsByTagName(\"head\")[0].appendChild(s);\n",
       "    }\n",
       "  };\n",
       "\n",
       "  var js_urls = [\"https://cdn.pydata.org/bokeh/release/bokeh-0.12.5.min.js\", \"https://cdn.pydata.org/bokeh/release/bokeh-widgets-0.12.5.min.js\"];\n",
       "\n",
       "  var inline_js = [\n",
       "    function(Bokeh) {\n",
       "      Bokeh.set_log_level(\"info\");\n",
       "    },\n",
       "    \n",
       "    function(Bokeh) {\n",
       "      \n",
       "    },\n",
       "    function(Bokeh) {\n",
       "      console.log(\"Bokeh: injecting CSS: https://cdn.pydata.org/bokeh/release/bokeh-0.12.5.min.css\");\n",
       "      Bokeh.embed.inject_css(\"https://cdn.pydata.org/bokeh/release/bokeh-0.12.5.min.css\");\n",
       "      console.log(\"Bokeh: injecting CSS: https://cdn.pydata.org/bokeh/release/bokeh-widgets-0.12.5.min.css\");\n",
       "      Bokeh.embed.inject_css(\"https://cdn.pydata.org/bokeh/release/bokeh-widgets-0.12.5.min.css\");\n",
       "    }\n",
       "  ];\n",
       "\n",
       "  function run_inline_js() {\n",
       "    \n",
       "    if ((window.Bokeh !== undefined) || (force === true)) {\n",
       "      for (var i = 0; i < inline_js.length; i++) {\n",
       "        inline_js[i](window.Bokeh);\n",
       "      }} else if (Date.now() < window._bokeh_timeout) {\n",
       "      setTimeout(run_inline_js, 100);\n",
       "    } else if (!window._bokeh_failed_load) {\n",
       "      console.log(\"Bokeh: BokehJS failed to load within specified timeout.\");\n",
       "      window._bokeh_failed_load = true;\n",
       "    } else if (force !== true) {\n",
       "      var cell = $(document.getElementById(\"\")).parents('.cell').data().cell;\n",
       "      cell.output_area.append_execute_result(NB_LOAD_WARNING)\n",
       "    }\n",
       "\n",
       "  }\n",
       "\n",
       "  if (window._bokeh_is_loading === 0) {\n",
       "    console.log(\"Bokeh: BokehJS loaded, going straight to plotting\");\n",
       "    run_inline_js();\n",
       "  } else {\n",
       "    load_libs(js_urls, function() {\n",
       "      console.log(\"Bokeh: BokehJS plotting callback run at\", now());\n",
       "      run_inline_js();\n",
       "    });\n",
       "  }\n",
       "}(this));"
      ]
     },
     "metadata": {},
     "output_type": "display_data"
    }
   ],
   "source": [
    "output_notebook(hide_banner=True);"
   ]
  },
  {
   "cell_type": "code",
   "execution_count": 6,
   "metadata": {
    "collapsed": false,
    "extensions": {
     "jupyter_dashboards": {
      "version": 1,
      "views": {
       "grid_default": {
        "col": 2,
        "height": 3,
        "hidden": false,
        "row": 0,
        "width": 7
       },
       "report_default": {}
      }
     }
    }
   },
   "outputs": [
    {
     "name": "stderr",
     "output_type": "stream",
     "text": [
      "Widget Javascript not detected.  It may not be installed properly. Did you enable the widgetsnbextension? If not, then run \"jupyter nbextension enable --py --sys-prefix widgetsnbextension\"\n"
     ]
    }
   ],
   "source": [
    "topic_widget = widgets.Text(description='Ticker:', placeholder='E.g. USDJPY=X')\n",
    "display(topic_widget)"
   ]
  },
  {
   "cell_type": "code",
   "execution_count": 7,
   "metadata": {
    "collapsed": true,
    "extensions": {
     "jupyter_dashboards": {
      "version": 1,
      "views": {
       "grid_default": {
        "hidden": true
       },
       "report_default": {}
      }
     }
    }
   },
   "outputs": [],
   "source": [
    "def handler(*args):\n",
    "    plot.set_topic(topic_widget.value)\n",
    "\n",
    "topic_widget.on_submit(handler)"
   ]
  },
  {
   "cell_type": "code",
   "execution_count": 8,
   "metadata": {
    "collapsed": false,
    "extensions": {
     "jupyter_dashboards": {
      "version": 1,
      "views": {
       "grid_default": {
        "hidden": true
       },
       "report_default": {}
      }
     }
    }
   },
   "outputs": [],
   "source": [
    "class LivePlot(object):\n",
    "    PORT = 5556\n",
    "\n",
    "    def __init__(self, topic=None):\n",
    "        self.topic = topic or ''\n",
    "        # See https://github.com/bokeh/bokeh/issues/6108\n",
    "        self.source = ColumnDataSource(data={'x': [datetime.datetime.now()], 'y': [0]})\n",
    "        self.plot = None\n",
    "\n",
    "    def subscribe(self):\n",
    "        ctx = zmq.Context()\n",
    "        sock = ctx.socket(zmq.SUB)\n",
    "        sock.connect('tcp://localhost:{}'.format(self.PORT))\n",
    "        sock.setsockopt_string(zmq.SUBSCRIBE, '')\n",
    "        stream = ZMQStream(sock)\n",
    "        stream.on_recv(self.callback)\n",
    "\n",
    "    def set_topic(self, topic):\n",
    "        self.topic = topic.upper()\n",
    "        self.source.data = dict(x=[], y=[])\n",
    "\n",
    "    def make_plot(self):\n",
    "        self.plot = figure(\n",
    "            plot_height=400,\n",
    "            plot_width=800,\n",
    "            background_fill_alpha=0,\n",
    "            border_fill_alpha=0,\n",
    "            x_axis_type='datetime',\n",
    "            logo=None,\n",
    "            tools='pan,wheel_zoom,box_zoom,reset,resize,crosshair,hover'\n",
    "        )\n",
    "        self.plot.circle('x', 'y', source=self.source, color='steelblue', size=7)\n",
    "        self.plot.line('x', 'y', source=self.source, color='crimson', alpha=0.5, line_width=2)\n",
    "        self.plot.xaxis.major_label_orientation = pi / 4\n",
    "        hover = self.plot.select(dict(type=HoverTool))\n",
    "        hover.tooltips = [\n",
    "            (\"Value\", \"$y\"),\n",
    "        ]\n",
    "        self.handle = show(self.plot, notebook_handle=True)\n",
    "\n",
    "    def callback(self, msg):\n",
    "        msg_text = msg[0].decode('utf-8').rpartition(' ')\n",
    "        self.debug_msg = msg\n",
    "        if self.topic == msg_text[0]:\n",
    "            payload = float(msg_text[-1])\n",
    "            x = datetime.datetime.now()\n",
    "            self.source.data['x'].append(x)\n",
    "            self.source.data['y'].append(payload)\n",
    "            self.source.data['x'] = self.source.data['x'][-20:]\n",
    "            self.source.data['y'] = self.source.data['y'][-20:]\n",
    "            push_notebook(handle=self.handle)\n",
    "            "
   ]
  },
  {
   "cell_type": "code",
   "execution_count": 9,
   "metadata": {
    "collapsed": false,
    "extensions": {
     "jupyter_dashboards": {
      "version": 1,
      "views": {
       "grid_default": {
        "col": 2,
        "height": 15,
        "hidden": false,
        "row": 3,
        "width": 7
       },
       "report_default": {}
      }
     }
    },
    "scrolled": true
   },
   "outputs": [
    {
     "data": {
      "text/html": [
       "\n",
       "\n",
       "    <div class=\"bk-root\">\n",
       "        <div class=\"bk-plotdiv\" id=\"4c90a35b-dfda-4764-8a68-ee2cb80e6370\"></div>\n",
       "    </div>\n",
       "<script type=\"text/javascript\">\n",
       "  \n",
       "  (function(global) {\n",
       "    function now() {\n",
       "      return new Date();\n",
       "    }\n",
       "  \n",
       "    var force = false;\n",
       "  \n",
       "    if (typeof (window._bokeh_onload_callbacks) === \"undefined\" || force === true) {\n",
       "      window._bokeh_onload_callbacks = [];\n",
       "      window._bokeh_is_loading = undefined;\n",
       "    }\n",
       "  \n",
       "  \n",
       "    \n",
       "    if (typeof (window._bokeh_timeout) === \"undefined\" || force === true) {\n",
       "      window._bokeh_timeout = Date.now() + 0;\n",
       "      window._bokeh_failed_load = false;\n",
       "    }\n",
       "  \n",
       "    var NB_LOAD_WARNING = {'data': {'text/html':\n",
       "       \"<div style='background-color: #fdd'>\\n\"+\n",
       "       \"<p>\\n\"+\n",
       "       \"BokehJS does not appear to have successfully loaded. If loading BokehJS from CDN, this \\n\"+\n",
       "       \"may be due to a slow or bad network connection. Possible fixes:\\n\"+\n",
       "       \"</p>\\n\"+\n",
       "       \"<ul>\\n\"+\n",
       "       \"<li>re-rerun `output_notebook()` to attempt to load from CDN again, or</li>\\n\"+\n",
       "       \"<li>use INLINE resources instead, as so:</li>\\n\"+\n",
       "       \"</ul>\\n\"+\n",
       "       \"<code>\\n\"+\n",
       "       \"from bokeh.resources import INLINE\\n\"+\n",
       "       \"output_notebook(resources=INLINE)\\n\"+\n",
       "       \"</code>\\n\"+\n",
       "       \"</div>\"}};\n",
       "  \n",
       "    function display_loaded() {\n",
       "      if (window.Bokeh !== undefined) {\n",
       "        var el = document.getElementById(\"4c90a35b-dfda-4764-8a68-ee2cb80e6370\");\n",
       "        el.textContent = \"BokehJS \" + Bokeh.version + \" successfully loaded.\";\n",
       "      } else if (Date.now() < window._bokeh_timeout) {\n",
       "        setTimeout(display_loaded, 100)\n",
       "      }\n",
       "    }if ((window.Jupyter !== undefined) && Jupyter.notebook.kernel) {\n",
       "      comm_manager = Jupyter.notebook.kernel.comm_manager\n",
       "      comm_manager.register_target(\"3f602e65-b104-47e1-a5f0-4805eb4560ee\", function () {});\n",
       "    }\n",
       "  \n",
       "    function run_callbacks() {\n",
       "      window._bokeh_onload_callbacks.forEach(function(callback) { callback() });\n",
       "      delete window._bokeh_onload_callbacks\n",
       "      console.info(\"Bokeh: all callbacks have finished\");\n",
       "    }\n",
       "  \n",
       "    function load_libs(js_urls, callback) {\n",
       "      window._bokeh_onload_callbacks.push(callback);\n",
       "      if (window._bokeh_is_loading > 0) {\n",
       "        console.log(\"Bokeh: BokehJS is being loaded, scheduling callback at\", now());\n",
       "        return null;\n",
       "      }\n",
       "      if (js_urls == null || js_urls.length === 0) {\n",
       "        run_callbacks();\n",
       "        return null;\n",
       "      }\n",
       "      console.log(\"Bokeh: BokehJS not loaded, scheduling load and callback at\", now());\n",
       "      window._bokeh_is_loading = js_urls.length;\n",
       "      for (var i = 0; i < js_urls.length; i++) {\n",
       "        var url = js_urls[i];\n",
       "        var s = document.createElement('script');\n",
       "        s.src = url;\n",
       "        s.async = false;\n",
       "        s.onreadystatechange = s.onload = function() {\n",
       "          window._bokeh_is_loading--;\n",
       "          if (window._bokeh_is_loading === 0) {\n",
       "            console.log(\"Bokeh: all BokehJS libraries loaded\");\n",
       "            run_callbacks()\n",
       "          }\n",
       "        };\n",
       "        s.onerror = function() {\n",
       "          console.warn(\"failed to load library \" + url);\n",
       "        };\n",
       "        console.log(\"Bokeh: injecting script tag for BokehJS library: \", url);\n",
       "        document.getElementsByTagName(\"head\")[0].appendChild(s);\n",
       "      }\n",
       "    };var element = document.getElementById(\"4c90a35b-dfda-4764-8a68-ee2cb80e6370\");\n",
       "    if (element == null) {\n",
       "      console.log(\"Bokeh: ERROR: autoload.js configured with elementid '4c90a35b-dfda-4764-8a68-ee2cb80e6370' but no matching script tag was found. \")\n",
       "      return false;\n",
       "    }\n",
       "  \n",
       "    var js_urls = [];\n",
       "  \n",
       "    var inline_js = [\n",
       "      function(Bokeh) {\n",
       "        (function() {\n",
       "          var fn = function() {\n",
       "            var docs_json = {\"24a75c8f-8939-48e6-92c8-ba9df5ba3963\":{\"roots\":{\"references\":[{\"attributes\":{\"data_source\":{\"id\":\"62351594-f7fd-48fc-8e58-38ade75d0bbd\",\"type\":\"ColumnDataSource\"},\"glyph\":{\"id\":\"0c9c2fe7-ab8d-4e65-b4d6-3f30e17847e7\",\"type\":\"Circle\"},\"hover_glyph\":null,\"muted_glyph\":null,\"nonselection_glyph\":{\"id\":\"ffa7d237-f354-4b73-8d66-b32f71d08212\",\"type\":\"Circle\"},\"selection_glyph\":null},\"id\":\"9067c56f-3d35-4cd5-a02a-7d49fd8c3c2f\",\"type\":\"GlyphRenderer\"},{\"attributes\":{\"base\":60,\"mantissas\":[1,2,5,10,15,20,30],\"max_interval\":1800000.0,\"min_interval\":1000.0,\"num_minor_ticks\":0},\"id\":\"42a226fe-8938-4960-825f-2aa87731e67b\",\"type\":\"AdaptiveTicker\"},{\"attributes\":{\"dimension\":1,\"plot\":{\"id\":\"c64bb712-2a4d-49db-99a1-081460504501\",\"subtype\":\"Figure\",\"type\":\"Plot\"},\"ticker\":{\"id\":\"934309dc-4e47-40d8-a4a6-e5ec109f7c37\",\"type\":\"BasicTicker\"}},\"id\":\"2172f016-b6fb-429d-9bff-784f71811f8d\",\"type\":\"Grid\"},{\"attributes\":{\"num_minor_ticks\":5},\"id\":\"493cd34c-b8fc-44c2-b34b-ac1aa36ee693\",\"type\":\"DatetimeTicker\"},{\"attributes\":{\"background_fill_alpha\":{\"value\":0},\"below\":[{\"id\":\"f6320767-04c8-4beb-8174-a4de59701fc6\",\"type\":\"DatetimeAxis\"}],\"border_fill_alpha\":{\"value\":0},\"left\":[{\"id\":\"d1448586-a03b-4bbf-9611-621118a19678\",\"type\":\"LinearAxis\"}],\"plot_height\":400,\"plot_width\":800,\"renderers\":[{\"id\":\"f6320767-04c8-4beb-8174-a4de59701fc6\",\"type\":\"DatetimeAxis\"},{\"id\":\"51140f7c-5a86-4ad5-945b-00cad84cf15d\",\"type\":\"Grid\"},{\"id\":\"d1448586-a03b-4bbf-9611-621118a19678\",\"type\":\"LinearAxis\"},{\"id\":\"2172f016-b6fb-429d-9bff-784f71811f8d\",\"type\":\"Grid\"},{\"id\":\"51de95d2-9153-4787-8487-64180a0fba02\",\"type\":\"BoxAnnotation\"},{\"id\":\"9067c56f-3d35-4cd5-a02a-7d49fd8c3c2f\",\"type\":\"GlyphRenderer\"},{\"id\":\"0663a566-b469-49ed-8de2-8d9c6e71f55f\",\"type\":\"GlyphRenderer\"}],\"title\":{\"id\":\"82b0234a-1b2b-4c26-b7a8-63c7033264b8\",\"type\":\"Title\"},\"tool_events\":{\"id\":\"3c2bbd1f-3603-44ac-abfa-a24ae0a6932d\",\"type\":\"ToolEvents\"},\"toolbar\":{\"id\":\"c5833bcb-592c-4e96-97ab-fe3cf6019ee5\",\"type\":\"Toolbar\"},\"x_range\":{\"id\":\"3021173a-4b65-4490-8fe3-e41c00562942\",\"type\":\"DataRange1d\"},\"y_range\":{\"id\":\"7568a926-684f-4322-a43a-51012cef0ad4\",\"type\":\"DataRange1d\"}},\"id\":\"c64bb712-2a4d-49db-99a1-081460504501\",\"subtype\":\"Figure\",\"type\":\"Plot\"},{\"attributes\":{\"plot\":{\"id\":\"c64bb712-2a4d-49db-99a1-081460504501\",\"subtype\":\"Figure\",\"type\":\"Plot\"}},\"id\":\"6dfea083-e7f5-465e-8845-e96ef66db7be\",\"type\":\"WheelZoomTool\"},{\"attributes\":{\"base\":24,\"mantissas\":[1,2,4,6,8,12],\"max_interval\":43200000.0,\"min_interval\":3600000.0,\"num_minor_ticks\":0},\"id\":\"321346f2-4918-4379-bbf5-90b6a2da7614\",\"type\":\"AdaptiveTicker\"},{\"attributes\":{},\"id\":\"934309dc-4e47-40d8-a4a6-e5ec109f7c37\",\"type\":\"BasicTicker\"},{\"attributes\":{\"formatter\":{\"id\":\"a7133977-cdb3-4ced-a2bb-32addfff014f\",\"type\":\"BasicTickFormatter\"},\"plot\":{\"id\":\"c64bb712-2a4d-49db-99a1-081460504501\",\"subtype\":\"Figure\",\"type\":\"Plot\"},\"ticker\":{\"id\":\"934309dc-4e47-40d8-a4a6-e5ec109f7c37\",\"type\":\"BasicTicker\"}},\"id\":\"d1448586-a03b-4bbf-9611-621118a19678\",\"type\":\"LinearAxis\"},{\"attributes\":{\"callback\":null},\"id\":\"3021173a-4b65-4490-8fe3-e41c00562942\",\"type\":\"DataRange1d\"},{\"attributes\":{\"formatter\":{\"id\":\"9c71b90d-4e29-462c-9eb5-6e403fa6ae01\",\"type\":\"DatetimeTickFormatter\"},\"major_label_orientation\":0.7853981633974483,\"plot\":{\"id\":\"c64bb712-2a4d-49db-99a1-081460504501\",\"subtype\":\"Figure\",\"type\":\"Plot\"},\"ticker\":{\"id\":\"493cd34c-b8fc-44c2-b34b-ac1aa36ee693\",\"type\":\"DatetimeTicker\"}},\"id\":\"f6320767-04c8-4beb-8174-a4de59701fc6\",\"type\":\"DatetimeAxis\"},{\"attributes\":{\"plot\":{\"id\":\"c64bb712-2a4d-49db-99a1-081460504501\",\"subtype\":\"Figure\",\"type\":\"Plot\"},\"ticker\":{\"id\":\"493cd34c-b8fc-44c2-b34b-ac1aa36ee693\",\"type\":\"DatetimeTicker\"}},\"id\":\"51140f7c-5a86-4ad5-945b-00cad84cf15d\",\"type\":\"Grid\"},{\"attributes\":{\"overlay\":{\"id\":\"51de95d2-9153-4787-8487-64180a0fba02\",\"type\":\"BoxAnnotation\"},\"plot\":{\"id\":\"c64bb712-2a4d-49db-99a1-081460504501\",\"subtype\":\"Figure\",\"type\":\"Plot\"}},\"id\":\"139b73dd-6551-4e01-994b-aafe2616933d\",\"type\":\"BoxZoomTool\"},{\"attributes\":{\"line_alpha\":{\"value\":0.5},\"line_color\":{\"value\":\"crimson\"},\"line_width\":{\"value\":2},\"x\":{\"field\":\"x\"},\"y\":{\"field\":\"y\"}},\"id\":\"2978174e-b0d5-4d35-b51c-8a7fd11a7de8\",\"type\":\"Line\"},{\"attributes\":{\"max_interval\":500.0,\"num_minor_ticks\":0},\"id\":\"9db071cd-d6c5-45d8-833a-d379507c3624\",\"type\":\"AdaptiveTicker\"},{\"attributes\":{\"plot\":{\"id\":\"c64bb712-2a4d-49db-99a1-081460504501\",\"subtype\":\"Figure\",\"type\":\"Plot\"}},\"id\":\"60f13817-1a8b-472c-ac14-b85443273717\",\"type\":\"PanTool\"},{\"attributes\":{\"days\":[1,4,7,10,13,16,19,22,25,28]},\"id\":\"0c2b53ee-c98f-43d3-9620-b0144b945494\",\"type\":\"DaysTicker\"},{\"attributes\":{\"days\":[1,8,15,22]},\"id\":\"a7688303-d2c8-4782-9177-ad7ff5dae631\",\"type\":\"DaysTicker\"},{\"attributes\":{\"fill_color\":{\"value\":\"steelblue\"},\"line_color\":{\"value\":\"steelblue\"},\"size\":{\"units\":\"screen\",\"value\":7},\"x\":{\"field\":\"x\"},\"y\":{\"field\":\"y\"}},\"id\":\"0c9c2fe7-ab8d-4e65-b4d6-3f30e17847e7\",\"type\":\"Circle\"},{\"attributes\":{\"days\":[1,15]},\"id\":\"000fc169-4c63-4482-b610-45aab254bee0\",\"type\":\"DaysTicker\"},{\"attributes\":{\"callback\":null,\"plot\":{\"id\":\"c64bb712-2a4d-49db-99a1-081460504501\",\"subtype\":\"Figure\",\"type\":\"Plot\"},\"tooltips\":[[\"Value\",\"$y\"]]},\"id\":\"5582e2de-c88e-49fc-b0c0-030aef4e5f6f\",\"type\":\"HoverTool\"},{\"attributes\":{\"callback\":null},\"id\":\"7568a926-684f-4322-a43a-51012cef0ad4\",\"type\":\"DataRange1d\"},{\"attributes\":{\"months\":[0,4,8]},\"id\":\"c253a59e-f7bd-4ae4-ba10-ab2e10d78135\",\"type\":\"MonthsTicker\"},{\"attributes\":{\"plot\":{\"id\":\"c64bb712-2a4d-49db-99a1-081460504501\",\"subtype\":\"Figure\",\"type\":\"Plot\"}},\"id\":\"664b9cb3-2b73-4ab9-93e7-7c1c9d3d3ea4\",\"type\":\"ResetTool\"},{\"attributes\":{\"callback\":null,\"column_names\":[\"x\",\"y\"],\"data\":{\"x\":[1493931522485.881],\"y\":[0]}},\"id\":\"62351594-f7fd-48fc-8e58-38ade75d0bbd\",\"type\":\"ColumnDataSource\"},{\"attributes\":{\"plot\":{\"id\":\"c64bb712-2a4d-49db-99a1-081460504501\",\"subtype\":\"Figure\",\"type\":\"Plot\"}},\"id\":\"df76a522-4bbb-4046-ba49-910d6a830e01\",\"type\":\"ResizeTool\"},{\"attributes\":{\"data_source\":{\"id\":\"62351594-f7fd-48fc-8e58-38ade75d0bbd\",\"type\":\"ColumnDataSource\"},\"glyph\":{\"id\":\"2978174e-b0d5-4d35-b51c-8a7fd11a7de8\",\"type\":\"Line\"},\"hover_glyph\":null,\"muted_glyph\":null,\"nonselection_glyph\":{\"id\":\"75ec0565-9cae-49e0-aec9-d40d32c8a9fe\",\"type\":\"Line\"},\"selection_glyph\":null},\"id\":\"0663a566-b469-49ed-8de2-8d9c6e71f55f\",\"type\":\"GlyphRenderer\"},{\"attributes\":{\"plot\":null,\"text\":\"\"},\"id\":\"82b0234a-1b2b-4c26-b7a8-63c7033264b8\",\"type\":\"Title\"},{\"attributes\":{\"months\":[0,1,2,3,4,5,6,7,8,9,10,11]},\"id\":\"7bafe6ea-bc93-408a-ad22-d029087e0fc5\",\"type\":\"MonthsTicker\"},{\"attributes\":{},\"id\":\"9c71b90d-4e29-462c-9eb5-6e403fa6ae01\",\"type\":\"DatetimeTickFormatter\"},{\"attributes\":{\"bottom_units\":\"screen\",\"fill_alpha\":{\"value\":0.5},\"fill_color\":{\"value\":\"lightgrey\"},\"left_units\":\"screen\",\"level\":\"overlay\",\"line_alpha\":{\"value\":1.0},\"line_color\":{\"value\":\"black\"},\"line_dash\":[4,4],\"line_width\":{\"value\":2},\"plot\":null,\"render_mode\":\"css\",\"right_units\":\"screen\",\"top_units\":\"screen\"},\"id\":\"51de95d2-9153-4787-8487-64180a0fba02\",\"type\":\"BoxAnnotation\"},{\"attributes\":{\"months\":[0,6]},\"id\":\"2919d731-92b2-42e2-a162-80a01b9f61fa\",\"type\":\"MonthsTicker\"},{\"attributes\":{\"line_alpha\":{\"value\":0.1},\"line_color\":{\"value\":\"#1f77b4\"},\"line_width\":{\"value\":2},\"x\":{\"field\":\"x\"},\"y\":{\"field\":\"y\"}},\"id\":\"75ec0565-9cae-49e0-aec9-d40d32c8a9fe\",\"type\":\"Line\"},{\"attributes\":{\"days\":[1,2,3,4,5,6,7,8,9,10,11,12,13,14,15,16,17,18,19,20,21,22,23,24,25,26,27,28,29,30,31]},\"id\":\"12ef891b-4e77-4fe2-946a-9f0b05bce41f\",\"type\":\"DaysTicker\"},{\"attributes\":{\"active_drag\":\"auto\",\"active_scroll\":\"auto\",\"active_tap\":\"auto\",\"logo\":null,\"tools\":[{\"id\":\"60f13817-1a8b-472c-ac14-b85443273717\",\"type\":\"PanTool\"},{\"id\":\"6dfea083-e7f5-465e-8845-e96ef66db7be\",\"type\":\"WheelZoomTool\"},{\"id\":\"139b73dd-6551-4e01-994b-aafe2616933d\",\"type\":\"BoxZoomTool\"},{\"id\":\"664b9cb3-2b73-4ab9-93e7-7c1c9d3d3ea4\",\"type\":\"ResetTool\"},{\"id\":\"df76a522-4bbb-4046-ba49-910d6a830e01\",\"type\":\"ResizeTool\"},{\"id\":\"be8d7a6d-ed6d-4cc0-bf3f-5ab7bc22a4ac\",\"type\":\"CrosshairTool\"},{\"id\":\"5582e2de-c88e-49fc-b0c0-030aef4e5f6f\",\"type\":\"HoverTool\"}]},\"id\":\"c5833bcb-592c-4e96-97ab-fe3cf6019ee5\",\"type\":\"Toolbar\"},{\"attributes\":{},\"id\":\"4f875b16-a6be-466a-8bb4-beb0821fef78\",\"type\":\"YearsTicker\"},{\"attributes\":{\"plot\":{\"id\":\"c64bb712-2a4d-49db-99a1-081460504501\",\"subtype\":\"Figure\",\"type\":\"Plot\"}},\"id\":\"be8d7a6d-ed6d-4cc0-bf3f-5ab7bc22a4ac\",\"type\":\"CrosshairTool\"},{\"attributes\":{\"fill_alpha\":{\"value\":0.1},\"fill_color\":{\"value\":\"#1f77b4\"},\"line_alpha\":{\"value\":0.1},\"line_color\":{\"value\":\"#1f77b4\"},\"size\":{\"units\":\"screen\",\"value\":7},\"x\":{\"field\":\"x\"},\"y\":{\"field\":\"y\"}},\"id\":\"ffa7d237-f354-4b73-8d66-b32f71d08212\",\"type\":\"Circle\"},{\"attributes\":{},\"id\":\"3c2bbd1f-3603-44ac-abfa-a24ae0a6932d\",\"type\":\"ToolEvents\"},{\"attributes\":{},\"id\":\"a7133977-cdb3-4ced-a2bb-32addfff014f\",\"type\":\"BasicTickFormatter\"},{\"attributes\":{\"months\":[0,2,4,6,8,10]},\"id\":\"e8552894-4722-4afd-8bc1-4ce0a6cddc7c\",\"type\":\"MonthsTicker\"}],\"root_ids\":[\"c64bb712-2a4d-49db-99a1-081460504501\"]},\"title\":\"Bokeh Application\",\"version\":\"0.12.5\"}};\n",
       "            var render_items = [{\"docid\":\"24a75c8f-8939-48e6-92c8-ba9df5ba3963\",\"elementid\":\"4c90a35b-dfda-4764-8a68-ee2cb80e6370\",\"modelid\":\"c64bb712-2a4d-49db-99a1-081460504501\",\"notebook_comms_target\":\"3f602e65-b104-47e1-a5f0-4805eb4560ee\"}];\n",
       "            \n",
       "            Bokeh.embed.embed_items(docs_json, render_items);\n",
       "          };\n",
       "          if (document.readyState != \"loading\") fn();\n",
       "          else document.addEventListener(\"DOMContentLoaded\", fn);\n",
       "        })();\n",
       "      },\n",
       "      function(Bokeh) {\n",
       "      }\n",
       "    ];\n",
       "  \n",
       "    function run_inline_js() {\n",
       "      \n",
       "      if ((window.Bokeh !== undefined) || (force === true)) {\n",
       "        for (var i = 0; i < inline_js.length; i++) {\n",
       "          inline_js[i](window.Bokeh);\n",
       "        }if (force === true) {\n",
       "          display_loaded();\n",
       "        }} else if (Date.now() < window._bokeh_timeout) {\n",
       "        setTimeout(run_inline_js, 100);\n",
       "      } else if (!window._bokeh_failed_load) {\n",
       "        console.log(\"Bokeh: BokehJS failed to load within specified timeout.\");\n",
       "        window._bokeh_failed_load = true;\n",
       "      } else if (force !== true) {\n",
       "        var cell = $(document.getElementById(\"4c90a35b-dfda-4764-8a68-ee2cb80e6370\")).parents('.cell').data().cell;\n",
       "        cell.output_area.append_execute_result(NB_LOAD_WARNING)\n",
       "      }\n",
       "  \n",
       "    }\n",
       "  \n",
       "    if (window._bokeh_is_loading === 0) {\n",
       "      console.log(\"Bokeh: BokehJS loaded, going straight to plotting\");\n",
       "      run_inline_js();\n",
       "    } else {\n",
       "      load_libs(js_urls, function() {\n",
       "        console.log(\"Bokeh: BokehJS plotting callback run at\", now());\n",
       "        run_inline_js();\n",
       "      });\n",
       "    }\n",
       "  }(this));\n",
       "</script>"
      ]
     },
     "metadata": {},
     "output_type": "display_data"
    }
   ],
   "source": [
    "plot = LivePlot()\n",
    "plot.make_plot()\n",
    "plot.subscribe()"
   ]
  },
  {
   "cell_type": "code",
   "execution_count": 10,
   "metadata": {
    "collapsed": true,
    "extensions": {
     "jupyter_dashboards": {
      "version": 1,
      "views": {
       "grid_default": {
        "hidden": true
       },
       "report_default": {}
      }
     }
    }
   },
   "outputs": [],
   "source": [
    "def parse_url(url):\n",
    "    q = urlparse(url).query\n",
    "    return {k.lower(): v[0] for k, v in parse_qs(q).items()}"
   ]
  },
  {
   "cell_type": "code",
   "execution_count": 11,
   "metadata": {
    "collapsed": true,
    "extensions": {
     "jupyter_dashboards": {
      "version": 1,
      "views": {
       "grid_default": {
        "hidden": true
       },
       "report_default": {}
      }
     }
    }
   },
   "outputs": [],
   "source": [
    "comm = Comm(target_name='pydata_comm_channel')\n",
    "\n",
    "@comm.on_msg\n",
    "def handle_msg(msg):\n",
    "    url = msg['content']['data']['url']\n",
    "    args = parse_url(url)\n",
    "    ticker = args.get('ticker', '').upper()\n",
    "    if ticker:\n",
    "        topic_widget.value = ticker\n",
    "        plot.set_topic(ticker)"
   ]
  }
 ],
 "metadata": {
  "extensions": {
   "jupyter_dashboards": {
    "activeView": "grid_default",
    "version": 1,
    "views": {
     "grid_default": {
      "cellMargin": 10,
      "defaultCellHeight": 20,
      "maxColumns": 12,
      "name": "grid",
      "type": "grid"
     },
     "report_default": {
      "name": "report",
      "type": "report"
     }
    }
   }
  },
  "kernelspec": {
   "display_name": "Python 3",
   "language": "python",
   "name": "python3"
  },
  "language_info": {
   "codemirror_mode": {
    "name": "ipython",
    "version": 3
   },
   "file_extension": ".py",
   "mimetype": "text/x-python",
   "name": "python",
   "nbconvert_exporter": "python",
   "pygments_lexer": "ipython3",
   "version": "3.5.2"
  },
  "widgets": {
   "state": {
    "00de6ebec8b34e1998feaf94f8575277": {
     "views": [
      {
       "cell_index": 5
      }
     ]
    }
   },
   "version": "1.2.0"
  }
 },
 "nbformat": 4,
 "nbformat_minor": 0
}
