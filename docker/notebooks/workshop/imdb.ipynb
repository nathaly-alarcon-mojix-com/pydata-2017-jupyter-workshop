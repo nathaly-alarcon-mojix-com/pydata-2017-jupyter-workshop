{
 "cells": [
  {
   "cell_type": "markdown",
   "metadata": {
    "extensions": {
     "jupyter_dashboards": {
      "version": 1,
      "views": {
       "grid_default": {
        "col": 0,
        "height": 4,
        "hidden": true,
        "row": 21,
        "width": 4
       },
       "report_default": {}
      }
     }
    }
   },
   "source": [
    "## Prettify the page with some `css`"
   ]
  },
  {
   "cell_type": "code",
   "execution_count": 1,
   "metadata": {
    "collapsed": false,
    "extensions": {
     "jupyter_dashboards": {
      "version": 1,
      "views": {
       "grid_default": {
        "hidden": true
       },
       "report_default": {}
      }
     }
    }
   },
   "outputs": [
    {
     "data": {
      "application/javascript": [
       "$(\".repository-content, .container\").css(\"width\", \"90%\");\n",
       "$(\"body, #outer-dashboard, .navbar-default\").css(\"background-color\", \"papayawhip\");\n",
       "$(\".navbar-default\").css(\"background-color\", \"lightblue\");"
      ],
      "text/plain": [
       "<IPython.core.display.Javascript object>"
      ]
     },
     "metadata": {},
     "output_type": "display_data"
    }
   ],
   "source": [
    "%%js\n",
    "$(\".repository-content, .container\").css(\"width\", \"90%\");\n",
    "$(\"body, #outer-dashboard, .navbar-default\").css(\"background-color\", \"papayawhip\");\n",
    "$(\".navbar-default\").css(\"background-color\", \"lightblue\");"
   ]
  },
  {
   "cell_type": "code",
   "execution_count": 2,
   "metadata": {
    "collapsed": false,
    "extensions": {
     "jupyter_dashboards": {
      "version": 1,
      "views": {
       "grid_default": {
        "col": 0,
        "height": 5,
        "hidden": false,
        "row": 0,
        "width": 4
       },
       "report_default": {}
      }
     }
    }
   },
   "outputs": [
    {
     "data": {
      "text/html": [
       "<img src=\"//localhost:3010/files/img/pydata.png\">"
      ],
      "text/plain": [
       "<IPython.core.display.HTML object>"
      ]
     },
     "metadata": {},
     "output_type": "display_data"
    }
   ],
   "source": [
    "%%html\n",
    "<img src=\"//localhost:3010/files/img/pydata.png\">"
   ]
  },
  {
   "cell_type": "code",
   "execution_count": 3,
   "metadata": {
    "collapsed": true,
    "extensions": {
     "jupyter_dashboards": {
      "version": 1,
      "views": {
       "grid_default": {
        "hidden": true
       },
       "report_default": {}
      }
     }
    }
   },
   "outputs": [],
   "source": [
    "from ipywidgets import widgets, interact, interactive\n",
    "from IPython.display import display"
   ]
  },
  {
   "cell_type": "code",
   "execution_count": 4,
   "metadata": {
    "collapsed": false,
    "extensions": {
     "jupyter_dashboards": {
      "version": 1,
      "views": {
       "grid_default": {
        "col": 1,
        "height": 2,
        "hidden": false,
        "row": 5,
        "width": 3
       },
       "report_default": {}
      }
     }
    }
   },
   "outputs": [
    {
     "name": "stderr",
     "output_type": "stream",
     "text": [
      "Widget Javascript not detected.  It may not be installed properly. Did you enable the widgetsnbextension? If not, then run \"jupyter nbextension enable --py --sys-prefix widgetsnbextension\"\n"
     ]
    }
   ],
   "source": [
    "debug_widget = widgets.HTML('<h3 class=\"pulsate\">Loading IMDB data...</h3>')\n",
    "display(debug_widget)"
   ]
  },
  {
   "cell_type": "markdown",
   "metadata": {},
   "source": [
    "## Display the `Loading` banner"
   ]
  },
  {
   "cell_type": "code",
   "execution_count": 5,
   "metadata": {
    "collapsed": false,
    "extensions": {
     "jupyter_dashboards": {
      "version": 1,
      "views": {
       "grid_default": {
        "hidden": true
       },
       "report_default": {}
      }
     }
    }
   },
   "outputs": [
    {
     "data": {
      "application/javascript": [
       "\n",
       "$(function() {\n",
       "  function pulsate() {\n",
       "    $(\".pulsate\").\n",
       "      animate({opacity: 0.2}, 500, 'linear').\n",
       "      animate({opacity: 1}, 500, 'linear', pulsate);\n",
       "  }\n",
       "  pulsate();\n",
       "});"
      ],
      "text/plain": [
       "<IPython.core.display.Javascript object>"
      ]
     },
     "metadata": {},
     "output_type": "display_data"
    }
   ],
   "source": [
    "%%js\n",
    "\n",
    "$(function() {\n",
    "  function pulsate() {\n",
    "    $(\".pulsate\").\n",
    "      animate({opacity: 0.2}, 500, 'linear').\n",
    "      animate({opacity: 1}, 500, 'linear', pulsate);\n",
    "  }\n",
    "  pulsate();\n",
    "});"
   ]
  },
  {
   "cell_type": "markdown",
   "metadata": {
    "extensions": {
     "jupyter_dashboards": {
      "version": 1,
      "views": {
       "grid_default": {
        "col": 8,
        "height": 4,
        "hidden": true,
        "row": 21,
        "width": 4
       },
       "report_default": {}
      }
     }
    }
   },
   "source": [
    "## Now can do more expensive imports"
   ]
  },
  {
   "cell_type": "code",
   "execution_count": 6,
   "metadata": {
    "collapsed": false,
    "extensions": {
     "jupyter_dashboards": {
      "version": 1,
      "views": {
       "grid_default": {
        "hidden": true
       },
       "report_default": {}
      }
     }
    }
   },
   "outputs": [],
   "source": [
    "import numpy as np\n",
    "import pandas as pd\n",
    "import json\n",
    "import pandas.io.sql as psql\n",
    "import sqlite3 as sql\n",
    "from ipykernel.comm import Comm\n",
    "\n",
    "from bokeh.plotting import figure\n",
    "from bokeh.models import ColumnDataSource, HoverTool, LassoSelectTool, CustomJS\n",
    "from bokeh.io import output_notebook, push_notebook, show\n",
    "from bokeh.sampledata.movies_data import movie_path"
   ]
  },
  {
   "cell_type": "code",
   "execution_count": 7,
   "metadata": {
    "collapsed": false,
    "extensions": {
     "jupyter_dashboards": {
      "version": 1,
      "views": {
       "grid_default": {
        "col": 0,
        "height": 4,
        "hidden": true,
        "row": 0,
        "width": 4
       },
       "report_default": {}
      }
     }
    }
   },
   "outputs": [
    {
     "data": {
      "text/html": []
     },
     "metadata": {},
     "output_type": "display_data"
    },
    {
     "data": {
      "application/javascript": [
       "\n",
       "(function(global) {\n",
       "  function now() {\n",
       "    return new Date();\n",
       "  }\n",
       "\n",
       "  var force = true;\n",
       "\n",
       "  if (typeof (window._bokeh_onload_callbacks) === \"undefined\" || force === true) {\n",
       "    window._bokeh_onload_callbacks = [];\n",
       "    window._bokeh_is_loading = undefined;\n",
       "  }\n",
       "\n",
       "\n",
       "  \n",
       "  if (typeof (window._bokeh_timeout) === \"undefined\" || force === true) {\n",
       "    window._bokeh_timeout = Date.now() + 5000;\n",
       "    window._bokeh_failed_load = false;\n",
       "  }\n",
       "\n",
       "  var NB_LOAD_WARNING = {'data': {'text/html':\n",
       "     \"<div style='background-color: #fdd'>\\n\"+\n",
       "     \"<p>\\n\"+\n",
       "     \"BokehJS does not appear to have successfully loaded. If loading BokehJS from CDN, this \\n\"+\n",
       "     \"may be due to a slow or bad network connection. Possible fixes:\\n\"+\n",
       "     \"</p>\\n\"+\n",
       "     \"<ul>\\n\"+\n",
       "     \"<li>re-rerun `output_notebook()` to attempt to load from CDN again, or</li>\\n\"+\n",
       "     \"<li>use INLINE resources instead, as so:</li>\\n\"+\n",
       "     \"</ul>\\n\"+\n",
       "     \"<code>\\n\"+\n",
       "     \"from bokeh.resources import INLINE\\n\"+\n",
       "     \"output_notebook(resources=INLINE)\\n\"+\n",
       "     \"</code>\\n\"+\n",
       "     \"</div>\"}};\n",
       "\n",
       "  function display_loaded() {\n",
       "    if (window.Bokeh !== undefined) {\n",
       "      var el = document.getElementById(\"\");\n",
       "      el.textContent = \"BokehJS \" + Bokeh.version + \" successfully loaded.\";\n",
       "    } else if (Date.now() < window._bokeh_timeout) {\n",
       "      setTimeout(display_loaded, 100)\n",
       "    }\n",
       "  }\n",
       "\n",
       "  function run_callbacks() {\n",
       "    window._bokeh_onload_callbacks.forEach(function(callback) { callback() });\n",
       "    delete window._bokeh_onload_callbacks\n",
       "    console.info(\"Bokeh: all callbacks have finished\");\n",
       "  }\n",
       "\n",
       "  function load_libs(js_urls, callback) {\n",
       "    window._bokeh_onload_callbacks.push(callback);\n",
       "    if (window._bokeh_is_loading > 0) {\n",
       "      console.log(\"Bokeh: BokehJS is being loaded, scheduling callback at\", now());\n",
       "      return null;\n",
       "    }\n",
       "    if (js_urls == null || js_urls.length === 0) {\n",
       "      run_callbacks();\n",
       "      return null;\n",
       "    }\n",
       "    console.log(\"Bokeh: BokehJS not loaded, scheduling load and callback at\", now());\n",
       "    window._bokeh_is_loading = js_urls.length;\n",
       "    for (var i = 0; i < js_urls.length; i++) {\n",
       "      var url = js_urls[i];\n",
       "      var s = document.createElement('script');\n",
       "      s.src = url;\n",
       "      s.async = false;\n",
       "      s.onreadystatechange = s.onload = function() {\n",
       "        window._bokeh_is_loading--;\n",
       "        if (window._bokeh_is_loading === 0) {\n",
       "          console.log(\"Bokeh: all BokehJS libraries loaded\");\n",
       "          run_callbacks()\n",
       "        }\n",
       "      };\n",
       "      s.onerror = function() {\n",
       "        console.warn(\"failed to load library \" + url);\n",
       "      };\n",
       "      console.log(\"Bokeh: injecting script tag for BokehJS library: \", url);\n",
       "      document.getElementsByTagName(\"head\")[0].appendChild(s);\n",
       "    }\n",
       "  };\n",
       "\n",
       "  var js_urls = [\"https://cdn.pydata.org/bokeh/release/bokeh-0.12.5.min.js\", \"https://cdn.pydata.org/bokeh/release/bokeh-widgets-0.12.5.min.js\"];\n",
       "\n",
       "  var inline_js = [\n",
       "    function(Bokeh) {\n",
       "      Bokeh.set_log_level(\"info\");\n",
       "    },\n",
       "    \n",
       "    function(Bokeh) {\n",
       "      \n",
       "    },\n",
       "    function(Bokeh) {\n",
       "      console.log(\"Bokeh: injecting CSS: https://cdn.pydata.org/bokeh/release/bokeh-0.12.5.min.css\");\n",
       "      Bokeh.embed.inject_css(\"https://cdn.pydata.org/bokeh/release/bokeh-0.12.5.min.css\");\n",
       "      console.log(\"Bokeh: injecting CSS: https://cdn.pydata.org/bokeh/release/bokeh-widgets-0.12.5.min.css\");\n",
       "      Bokeh.embed.inject_css(\"https://cdn.pydata.org/bokeh/release/bokeh-widgets-0.12.5.min.css\");\n",
       "    }\n",
       "  ];\n",
       "\n",
       "  function run_inline_js() {\n",
       "    \n",
       "    if ((window.Bokeh !== undefined) || (force === true)) {\n",
       "      for (var i = 0; i < inline_js.length; i++) {\n",
       "        inline_js[i](window.Bokeh);\n",
       "      }} else if (Date.now() < window._bokeh_timeout) {\n",
       "      setTimeout(run_inline_js, 100);\n",
       "    } else if (!window._bokeh_failed_load) {\n",
       "      console.log(\"Bokeh: BokehJS failed to load within specified timeout.\");\n",
       "      window._bokeh_failed_load = true;\n",
       "    } else if (force !== true) {\n",
       "      var cell = $(document.getElementById(\"\")).parents('.cell').data().cell;\n",
       "      cell.output_area.append_execute_result(NB_LOAD_WARNING)\n",
       "    }\n",
       "\n",
       "  }\n",
       "\n",
       "  if (window._bokeh_is_loading === 0) {\n",
       "    console.log(\"Bokeh: BokehJS loaded, going straight to plotting\");\n",
       "    run_inline_js();\n",
       "  } else {\n",
       "    load_libs(js_urls, function() {\n",
       "      console.log(\"Bokeh: BokehJS plotting callback run at\", now());\n",
       "      run_inline_js();\n",
       "    });\n",
       "  }\n",
       "}(this));"
      ]
     },
     "metadata": {},
     "output_type": "display_data"
    }
   ],
   "source": [
    "output_notebook(hide_banner=True)"
   ]
  },
  {
   "cell_type": "code",
   "execution_count": 8,
   "metadata": {
    "collapsed": false,
    "extensions": {
     "jupyter_dashboards": {
      "version": 1,
      "views": {
       "grid_default": {
        "hidden": true
       },
       "report_default": {}
      }
     }
    }
   },
   "outputs": [],
   "source": [
    "wallet = type('Wallet', (), {})"
   ]
  },
  {
   "cell_type": "code",
   "execution_count": 9,
   "metadata": {
    "collapsed": false,
    "extensions": {
     "jupyter_dashboards": {
      "version": 1,
      "views": {
       "grid_default": {
        "hidden": true
       },
       "report_default": {}
      }
     }
    }
   },
   "outputs": [],
   "source": [
    "genres = [\n",
    "    \"All\",\n",
    "    \"Action\",\n",
    "    \"Adventure\",\n",
    "    \"Animation\",\n",
    "    \"Biography\",\n",
    "    \"Comedy\",\n",
    "    \"Crime\",\n",
    "    \"Documentary\",\n",
    "    \"Drama\",\n",
    "    \"Family\",\n",
    "    \"Fantasy\",\n",
    "    \"History\",\n",
    "    \"Horror\",\n",
    "    \"Music\",\n",
    "    \"Musical\",\n",
    "    \"Mystery\",\n",
    "    \"Romance\",\n",
    "    \"Sci-Fi\",\n",
    "    \"Short\",\n",
    "    \"Sport\",\n",
    "    \"Thriller\",\n",
    "    \"War\",\n",
    "    \"Western\",\n",
    "]"
   ]
  },
  {
   "cell_type": "code",
   "execution_count": 10,
   "metadata": {
    "collapsed": true,
    "extensions": {
     "jupyter_dashboards": {
      "version": 1,
      "views": {
       "grid_default": {
        "hidden": true
       },
       "report_default": {}
      }
     }
    }
   },
   "outputs": [],
   "source": [
    "query = \"\"\"\n",
    "SELECT omdb.ID,\n",
    "       imdbID,\n",
    "       Title,\n",
    "       Year,\n",
    "       omdb.Rating as mpaaRating,\n",
    "       Runtime,\n",
    "       Genre,\n",
    "       Released,\n",
    "       Director,\n",
    "       Writer,\n",
    "       omdb.Cast,\n",
    "       imdbRating,\n",
    "       imdbVotes,\n",
    "       Language,\n",
    "       Country,\n",
    "       Oscars,\n",
    "       tomatoes.Rating as numericRating,\n",
    "       Meter,\n",
    "       Reviews,\n",
    "       Fresh,\n",
    "       Rotten,\n",
    "       userMeter,\n",
    "       userRating,\n",
    "       userReviews,\n",
    "       BoxOffice,\n",
    "       Production\n",
    "FROM omdb, tomatoes\n",
    "WHERE omdb.ID = tomatoes.ID AND Reviews >= 10\n",
    "\"\"\""
   ]
  },
  {
   "cell_type": "code",
   "execution_count": 11,
   "metadata": {
    "collapsed": true,
    "extensions": {
     "jupyter_dashboards": {
      "version": 1,
      "views": {
       "grid_default": {
        "hidden": true
       },
       "report_default": {}
      }
     }
    }
   },
   "outputs": [],
   "source": [
    "conn = sql.connect(movie_path)\n",
    "movies = psql.read_sql(query, conn)"
   ]
  },
  {
   "cell_type": "code",
   "execution_count": 12,
   "metadata": {
    "collapsed": true,
    "extensions": {
     "jupyter_dashboards": {
      "version": 1,
      "views": {
       "grid_default": {
        "hidden": true
       },
       "report_default": {}
      }
     }
    }
   },
   "outputs": [],
   "source": [
    "movies[\"color\"] = np.where(movies[\"Oscars\"] > 0, \"purple\", \"steelblue\")\n",
    "movies[\"alpha\"] = np.where(movies[\"Oscars\"] > 0, 0.9, 0.25)\n",
    "movies.fillna(0, inplace=True)  # just replace missing values with zero\n",
    "movies[\"revenue\"] = movies.BoxOffice.apply(lambda x: '{:,d}'.format(int(x)))"
   ]
  },
  {
   "cell_type": "code",
   "execution_count": 13,
   "metadata": {
    "collapsed": true,
    "extensions": {
     "jupyter_dashboards": {
      "version": 1,
      "views": {
       "grid_default": {
        "hidden": true
       },
       "report_default": {}
      }
     }
    }
   },
   "outputs": [],
   "source": [
    "axis_map = {\n",
    "    \"Tomato Meter\": \"Meter\",\n",
    "    \"Numeric Rating\": \"numericRating\",\n",
    "    \"Number of Reviews\": \"Reviews\",\n",
    "    \"Box Office (dollars)\": \"BoxOffice\",\n",
    "    \"Length (minutes)\": \"Runtime\",\n",
    "    \"Year\": \"Year\",\n",
    "}"
   ]
  },
  {
   "cell_type": "code",
   "execution_count": 14,
   "metadata": {
    "collapsed": false,
    "extensions": {
     "jupyter_dashboards": {
      "version": 1,
      "views": {
       "grid_default": {
        "hidden": true
       },
       "report_default": {}
      }
     }
    }
   },
   "outputs": [],
   "source": [
    "source = ColumnDataSource(data=dict(x=[], y=[], color=[], title=[], year=[], revenue=[], alpha=[]))\n",
    "\n",
    "hover = HoverTool(tooltips=[\n",
    "    (\"Title\", \"@title\"),\n",
    "    (\"Year\", \"@year\"),\n",
    "    (\"$\", \"@revenue\")\n",
    "])\n",
    "\n",
    "plot = figure(plot_height=600, plot_width=700, title=\"\", toolbar_location='right', tools='lasso_select,reset')\n",
    "plot.add_tools(hover)\n",
    "plot.circle(x=\"x\", y=\"y\", source=source, size=7, color=\"color\", line_color=None, fill_alpha=\"alpha\")\n",
    "plot.background_fill_alpha = 0\n",
    "plot.border_fill_alpha = 0"
   ]
  },
  {
   "cell_type": "markdown",
   "metadata": {
    "extensions": {
     "jupyter_dashboards": {
      "version": 1,
      "views": {
       "grid_default": {
        "col": 0,
        "height": 4,
        "hidden": true,
        "row": 21,
        "width": 4
       },
       "report_default": {}
      }
     }
    }
   },
   "source": [
    "## Some `javascript` to copy selected points elsewhere and send them to backend"
   ]
  },
  {
   "cell_type": "code",
   "execution_count": 15,
   "metadata": {
    "collapsed": false,
    "extensions": {
     "jupyter_dashboards": {
      "version": 1,
      "views": {
       "grid_default": {
        "hidden": true
       },
       "report_default": {}
      }
     }
    }
   },
   "outputs": [],
   "source": [
    "source.callback = CustomJS(code=r\"\"\"\n",
    "    // cb_obj is a magic name\n",
    "    var idx = cb_obj.selected['1d'].indices;\n",
    "    var ids = [];\n",
    "    for (i = 0; i < idx.length; i++) {\n",
    "        ids.push(idx[i]);\n",
    "    }\n",
    "    window.comm_handle.send(JSON.stringify(ids));\n",
    "    console.log(\"Kernel: enjoy your data!\");\n",
    "\"\"\")"
   ]
  },
  {
   "cell_type": "code",
   "execution_count": 16,
   "metadata": {
    "collapsed": false,
    "extensions": {
     "jupyter_dashboards": {
      "version": 1,
      "views": {
       "grid_default": {
        "col": 4,
        "height": 21,
        "hidden": false,
        "row": 0,
        "width": 6
       },
       "report_default": {}
      }
     }
    }
   },
   "outputs": [
    {
     "data": {
      "text/html": [
       "\n",
       "\n",
       "    <div class=\"bk-root\">\n",
       "        <div class=\"bk-plotdiv\" id=\"e4d4f4c1-750f-43ae-9d17-371fc3c04cdb\"></div>\n",
       "    </div>\n",
       "<script type=\"text/javascript\">\n",
       "  \n",
       "  (function(global) {\n",
       "    function now() {\n",
       "      return new Date();\n",
       "    }\n",
       "  \n",
       "    var force = false;\n",
       "  \n",
       "    if (typeof (window._bokeh_onload_callbacks) === \"undefined\" || force === true) {\n",
       "      window._bokeh_onload_callbacks = [];\n",
       "      window._bokeh_is_loading = undefined;\n",
       "    }\n",
       "  \n",
       "  \n",
       "    \n",
       "    if (typeof (window._bokeh_timeout) === \"undefined\" || force === true) {\n",
       "      window._bokeh_timeout = Date.now() + 0;\n",
       "      window._bokeh_failed_load = false;\n",
       "    }\n",
       "  \n",
       "    var NB_LOAD_WARNING = {'data': {'text/html':\n",
       "       \"<div style='background-color: #fdd'>\\n\"+\n",
       "       \"<p>\\n\"+\n",
       "       \"BokehJS does not appear to have successfully loaded. If loading BokehJS from CDN, this \\n\"+\n",
       "       \"may be due to a slow or bad network connection. Possible fixes:\\n\"+\n",
       "       \"</p>\\n\"+\n",
       "       \"<ul>\\n\"+\n",
       "       \"<li>re-rerun `output_notebook()` to attempt to load from CDN again, or</li>\\n\"+\n",
       "       \"<li>use INLINE resources instead, as so:</li>\\n\"+\n",
       "       \"</ul>\\n\"+\n",
       "       \"<code>\\n\"+\n",
       "       \"from bokeh.resources import INLINE\\n\"+\n",
       "       \"output_notebook(resources=INLINE)\\n\"+\n",
       "       \"</code>\\n\"+\n",
       "       \"</div>\"}};\n",
       "  \n",
       "    function display_loaded() {\n",
       "      if (window.Bokeh !== undefined) {\n",
       "        var el = document.getElementById(\"e4d4f4c1-750f-43ae-9d17-371fc3c04cdb\");\n",
       "        el.textContent = \"BokehJS \" + Bokeh.version + \" successfully loaded.\";\n",
       "      } else if (Date.now() < window._bokeh_timeout) {\n",
       "        setTimeout(display_loaded, 100)\n",
       "      }\n",
       "    }if ((window.Jupyter !== undefined) && Jupyter.notebook.kernel) {\n",
       "      comm_manager = Jupyter.notebook.kernel.comm_manager\n",
       "      comm_manager.register_target(\"d49da407-802d-4347-96f9-7c230196a1ca\", function () {});\n",
       "    }\n",
       "  \n",
       "    function run_callbacks() {\n",
       "      window._bokeh_onload_callbacks.forEach(function(callback) { callback() });\n",
       "      delete window._bokeh_onload_callbacks\n",
       "      console.info(\"Bokeh: all callbacks have finished\");\n",
       "    }\n",
       "  \n",
       "    function load_libs(js_urls, callback) {\n",
       "      window._bokeh_onload_callbacks.push(callback);\n",
       "      if (window._bokeh_is_loading > 0) {\n",
       "        console.log(\"Bokeh: BokehJS is being loaded, scheduling callback at\", now());\n",
       "        return null;\n",
       "      }\n",
       "      if (js_urls == null || js_urls.length === 0) {\n",
       "        run_callbacks();\n",
       "        return null;\n",
       "      }\n",
       "      console.log(\"Bokeh: BokehJS not loaded, scheduling load and callback at\", now());\n",
       "      window._bokeh_is_loading = js_urls.length;\n",
       "      for (var i = 0; i < js_urls.length; i++) {\n",
       "        var url = js_urls[i];\n",
       "        var s = document.createElement('script');\n",
       "        s.src = url;\n",
       "        s.async = false;\n",
       "        s.onreadystatechange = s.onload = function() {\n",
       "          window._bokeh_is_loading--;\n",
       "          if (window._bokeh_is_loading === 0) {\n",
       "            console.log(\"Bokeh: all BokehJS libraries loaded\");\n",
       "            run_callbacks()\n",
       "          }\n",
       "        };\n",
       "        s.onerror = function() {\n",
       "          console.warn(\"failed to load library \" + url);\n",
       "        };\n",
       "        console.log(\"Bokeh: injecting script tag for BokehJS library: \", url);\n",
       "        document.getElementsByTagName(\"head\")[0].appendChild(s);\n",
       "      }\n",
       "    };var element = document.getElementById(\"e4d4f4c1-750f-43ae-9d17-371fc3c04cdb\");\n",
       "    if (element == null) {\n",
       "      console.log(\"Bokeh: ERROR: autoload.js configured with elementid 'e4d4f4c1-750f-43ae-9d17-371fc3c04cdb' but no matching script tag was found. \")\n",
       "      return false;\n",
       "    }\n",
       "  \n",
       "    var js_urls = [];\n",
       "  \n",
       "    var inline_js = [\n",
       "      function(Bokeh) {\n",
       "        (function() {\n",
       "          var fn = function() {\n",
       "            var docs_json = {\"dd709e0f-ad8c-4c69-9e96-b51d39d6d444\":{\"roots\":{\"references\":[{\"attributes\":{\"code\":\"\\n    // cb_obj is a magic name\\n    var idx = cb_obj.selected['1d'].indices;\\n    var ids = [];\\n    for (i = 0; i < idx.length; i++) {\\n        ids.push(idx[i]);\\n    }\\n    window.comm_handle.send(JSON.stringify(ids));\\n    console.log(\\\"Kernel: enjoy your data!\\\");\\n\"},\"id\":\"7f7667a3-83f0-48af-ba1b-a7b1efca9650\",\"type\":\"CustomJS\"},{\"attributes\":{\"callback\":null,\"plot\":{\"id\":\"b87c7e03-3492-45a3-99fa-34a219ce4d42\",\"subtype\":\"Figure\",\"type\":\"Plot\"},\"tooltips\":[[\"Title\",\"@title\"],[\"Year\",\"@year\"],[\"$\",\"@revenue\"]]},\"id\":\"69b2dd2f-46b7-43a3-93bf-612b26038a7c\",\"type\":\"HoverTool\"},{\"attributes\":{\"active_drag\":\"auto\",\"active_scroll\":\"auto\",\"active_tap\":\"auto\",\"tools\":[{\"id\":\"9d683a27-10f0-4059-93ec-a0c3d7447b69\",\"type\":\"LassoSelectTool\"},{\"id\":\"ca87a690-0e7c-4507-91ab-03cb77e9915e\",\"type\":\"ResetTool\"},{\"id\":\"69b2dd2f-46b7-43a3-93bf-612b26038a7c\",\"type\":\"HoverTool\"}]},\"id\":\"fed1ab5a-9df2-490e-b406-b2d0b557c3c8\",\"type\":\"Toolbar\"},{\"attributes\":{\"callback\":null,\"overlay\":{\"id\":\"eaa5ca23-1d93-43e0-a701-158018c24f23\",\"type\":\"PolyAnnotation\"},\"plot\":{\"id\":\"b87c7e03-3492-45a3-99fa-34a219ce4d42\",\"subtype\":\"Figure\",\"type\":\"Plot\"}},\"id\":\"9d683a27-10f0-4059-93ec-a0c3d7447b69\",\"type\":\"LassoSelectTool\"},{\"attributes\":{},\"id\":\"e6ab8b9a-373f-42b6-9253-c33e5eee3458\",\"type\":\"BasicTicker\"},{\"attributes\":{\"formatter\":{\"id\":\"bb138938-31b4-4a70-9a13-3de25c549ec7\",\"type\":\"BasicTickFormatter\"},\"plot\":{\"id\":\"b87c7e03-3492-45a3-99fa-34a219ce4d42\",\"subtype\":\"Figure\",\"type\":\"Plot\"},\"ticker\":{\"id\":\"e6ab8b9a-373f-42b6-9253-c33e5eee3458\",\"type\":\"BasicTicker\"}},\"id\":\"8e2cfe67-c71f-4d2d-aacd-971529490b56\",\"type\":\"LinearAxis\"},{\"attributes\":{},\"id\":\"a7e7cb2e-d8d9-4450-824f-243e982728ce\",\"type\":\"BasicTicker\"},{\"attributes\":{\"background_fill_alpha\":{\"value\":0},\"below\":[{\"id\":\"8e2cfe67-c71f-4d2d-aacd-971529490b56\",\"type\":\"LinearAxis\"}],\"border_fill_alpha\":{\"value\":0},\"left\":[{\"id\":\"dfa61f8c-7212-49af-a400-5a9ca2cce67d\",\"type\":\"LinearAxis\"}],\"plot_width\":700,\"renderers\":[{\"id\":\"8e2cfe67-c71f-4d2d-aacd-971529490b56\",\"type\":\"LinearAxis\"},{\"id\":\"869192b3-dcbc-40bd-a967-715aa4ad2dbd\",\"type\":\"Grid\"},{\"id\":\"dfa61f8c-7212-49af-a400-5a9ca2cce67d\",\"type\":\"LinearAxis\"},{\"id\":\"fa13a3f8-566b-4382-925d-59507c2696d6\",\"type\":\"Grid\"},{\"id\":\"eaa5ca23-1d93-43e0-a701-158018c24f23\",\"type\":\"PolyAnnotation\"},{\"id\":\"a4440fc9-1ee4-44d5-a2d1-7b1f2df7567f\",\"type\":\"GlyphRenderer\"}],\"title\":{\"id\":\"71947a04-bd29-4851-80e0-9947583970ff\",\"type\":\"Title\"},\"tool_events\":{\"id\":\"2969d410-4d33-4445-be6f-6082a9925b2b\",\"type\":\"ToolEvents\"},\"toolbar\":{\"id\":\"fed1ab5a-9df2-490e-b406-b2d0b557c3c8\",\"type\":\"Toolbar\"},\"x_range\":{\"id\":\"1f204045-911f-420a-bfc9-bc9dfc84e033\",\"type\":\"DataRange1d\"},\"y_range\":{\"id\":\"51706dcc-143b-426e-8161-21077461cfa7\",\"type\":\"DataRange1d\"}},\"id\":\"b87c7e03-3492-45a3-99fa-34a219ce4d42\",\"subtype\":\"Figure\",\"type\":\"Plot\"},{\"attributes\":{\"plot\":{\"id\":\"b87c7e03-3492-45a3-99fa-34a219ce4d42\",\"subtype\":\"Figure\",\"type\":\"Plot\"}},\"id\":\"ca87a690-0e7c-4507-91ab-03cb77e9915e\",\"type\":\"ResetTool\"},{\"attributes\":{\"dimension\":1,\"plot\":{\"id\":\"b87c7e03-3492-45a3-99fa-34a219ce4d42\",\"subtype\":\"Figure\",\"type\":\"Plot\"},\"ticker\":{\"id\":\"a7e7cb2e-d8d9-4450-824f-243e982728ce\",\"type\":\"BasicTicker\"}},\"id\":\"fa13a3f8-566b-4382-925d-59507c2696d6\",\"type\":\"Grid\"},{\"attributes\":{\"plot\":null,\"text\":\"\"},\"id\":\"71947a04-bd29-4851-80e0-9947583970ff\",\"type\":\"Title\"},{\"attributes\":{},\"id\":\"bb138938-31b4-4a70-9a13-3de25c549ec7\",\"type\":\"BasicTickFormatter\"},{\"attributes\":{\"fill_alpha\":{\"value\":0.1},\"fill_color\":{\"value\":\"#1f77b4\"},\"line_alpha\":{\"value\":0.1},\"line_color\":{\"value\":\"#1f77b4\"},\"size\":{\"units\":\"screen\",\"value\":7},\"x\":{\"field\":\"x\"},\"y\":{\"field\":\"y\"}},\"id\":\"d546fd95-45a9-4d78-979c-c939f5e1f4c0\",\"type\":\"Circle\"},{\"attributes\":{},\"id\":\"4ee808b6-59d7-4dc4-a522-401617f75a6f\",\"type\":\"BasicTickFormatter\"},{\"attributes\":{\"callback\":null},\"id\":\"1f204045-911f-420a-bfc9-bc9dfc84e033\",\"type\":\"DataRange1d\"},{\"attributes\":{\"callback\":null},\"id\":\"51706dcc-143b-426e-8161-21077461cfa7\",\"type\":\"DataRange1d\"},{\"attributes\":{\"data_source\":{\"id\":\"d556ab41-53f7-441e-ae72-dbe0af5f79ee\",\"type\":\"ColumnDataSource\"},\"glyph\":{\"id\":\"f4c45bf6-f6ac-41a9-aae9-f7a1d4594c5d\",\"type\":\"Circle\"},\"hover_glyph\":null,\"muted_glyph\":null,\"nonselection_glyph\":{\"id\":\"d546fd95-45a9-4d78-979c-c939f5e1f4c0\",\"type\":\"Circle\"},\"selection_glyph\":null},\"id\":\"a4440fc9-1ee4-44d5-a2d1-7b1f2df7567f\",\"type\":\"GlyphRenderer\"},{\"attributes\":{\"fill_alpha\":{\"field\":\"alpha\"},\"fill_color\":{\"field\":\"color\"},\"line_color\":{\"value\":null},\"size\":{\"units\":\"screen\",\"value\":7},\"x\":{\"field\":\"x\"},\"y\":{\"field\":\"y\"}},\"id\":\"f4c45bf6-f6ac-41a9-aae9-f7a1d4594c5d\",\"type\":\"Circle\"},{\"attributes\":{\"plot\":{\"id\":\"b87c7e03-3492-45a3-99fa-34a219ce4d42\",\"subtype\":\"Figure\",\"type\":\"Plot\"},\"ticker\":{\"id\":\"e6ab8b9a-373f-42b6-9253-c33e5eee3458\",\"type\":\"BasicTicker\"}},\"id\":\"869192b3-dcbc-40bd-a967-715aa4ad2dbd\",\"type\":\"Grid\"},{\"attributes\":{\"callback\":{\"id\":\"7f7667a3-83f0-48af-ba1b-a7b1efca9650\",\"type\":\"CustomJS\"},\"column_names\":[\"year\",\"revenue\",\"title\",\"alpha\",\"x\",\"color\",\"y\"],\"data\":{\"alpha\":[],\"color\":[],\"revenue\":[],\"title\":[],\"x\":[],\"y\":[],\"year\":[]}},\"id\":\"d556ab41-53f7-441e-ae72-dbe0af5f79ee\",\"type\":\"ColumnDataSource\"},{\"attributes\":{\"formatter\":{\"id\":\"4ee808b6-59d7-4dc4-a522-401617f75a6f\",\"type\":\"BasicTickFormatter\"},\"plot\":{\"id\":\"b87c7e03-3492-45a3-99fa-34a219ce4d42\",\"subtype\":\"Figure\",\"type\":\"Plot\"},\"ticker\":{\"id\":\"a7e7cb2e-d8d9-4450-824f-243e982728ce\",\"type\":\"BasicTicker\"}},\"id\":\"dfa61f8c-7212-49af-a400-5a9ca2cce67d\",\"type\":\"LinearAxis\"},{\"attributes\":{},\"id\":\"2969d410-4d33-4445-be6f-6082a9925b2b\",\"type\":\"ToolEvents\"},{\"attributes\":{\"fill_alpha\":{\"value\":0.5},\"fill_color\":{\"value\":\"lightgrey\"},\"level\":\"overlay\",\"line_alpha\":{\"value\":1.0},\"line_color\":{\"value\":\"black\"},\"line_dash\":[4,4],\"line_width\":{\"value\":2},\"plot\":null,\"xs_units\":\"screen\",\"ys_units\":\"screen\"},\"id\":\"eaa5ca23-1d93-43e0-a701-158018c24f23\",\"type\":\"PolyAnnotation\"}],\"root_ids\":[\"b87c7e03-3492-45a3-99fa-34a219ce4d42\"]},\"title\":\"Bokeh Application\",\"version\":\"0.12.5\"}};\n",
       "            var render_items = [{\"docid\":\"dd709e0f-ad8c-4c69-9e96-b51d39d6d444\",\"elementid\":\"e4d4f4c1-750f-43ae-9d17-371fc3c04cdb\",\"modelid\":\"b87c7e03-3492-45a3-99fa-34a219ce4d42\",\"notebook_comms_target\":\"d49da407-802d-4347-96f9-7c230196a1ca\"}];\n",
       "            \n",
       "            Bokeh.embed.embed_items(docs_json, render_items);\n",
       "          };\n",
       "          if (document.readyState != \"loading\") fn();\n",
       "          else document.addEventListener(\"DOMContentLoaded\", fn);\n",
       "        })();\n",
       "      },\n",
       "      function(Bokeh) {\n",
       "      }\n",
       "    ];\n",
       "  \n",
       "    function run_inline_js() {\n",
       "      \n",
       "      if ((window.Bokeh !== undefined) || (force === true)) {\n",
       "        for (var i = 0; i < inline_js.length; i++) {\n",
       "          inline_js[i](window.Bokeh);\n",
       "        }if (force === true) {\n",
       "          display_loaded();\n",
       "        }} else if (Date.now() < window._bokeh_timeout) {\n",
       "        setTimeout(run_inline_js, 100);\n",
       "      } else if (!window._bokeh_failed_load) {\n",
       "        console.log(\"Bokeh: BokehJS failed to load within specified timeout.\");\n",
       "        window._bokeh_failed_load = true;\n",
       "      } else if (force !== true) {\n",
       "        var cell = $(document.getElementById(\"e4d4f4c1-750f-43ae-9d17-371fc3c04cdb\")).parents('.cell').data().cell;\n",
       "        cell.output_area.append_execute_result(NB_LOAD_WARNING)\n",
       "      }\n",
       "  \n",
       "    }\n",
       "  \n",
       "    if (window._bokeh_is_loading === 0) {\n",
       "      console.log(\"Bokeh: BokehJS loaded, going straight to plotting\");\n",
       "      run_inline_js();\n",
       "    } else {\n",
       "      load_libs(js_urls, function() {\n",
       "        console.log(\"Bokeh: BokehJS plotting callback run at\", now());\n",
       "        run_inline_js();\n",
       "      });\n",
       "    }\n",
       "  }(this));\n",
       "</script>"
      ]
     },
     "metadata": {},
     "output_type": "display_data"
    }
   ],
   "source": [
    "handle = show(plot, notebook_handle=True)"
   ]
  },
  {
   "cell_type": "code",
   "execution_count": 17,
   "metadata": {
    "collapsed": true,
    "extensions": {
     "jupyter_dashboards": {
      "version": 1,
      "views": {
       "grid_default": {
        "hidden": true
       },
       "report_default": {}
      }
     }
    }
   },
   "outputs": [],
   "source": [
    "debug_widget.value = ''"
   ]
  },
  {
   "cell_type": "code",
   "execution_count": 18,
   "metadata": {
    "collapsed": false,
    "extensions": {
     "jupyter_dashboards": {
      "version": 1,
      "views": {
       "grid_default": {
        "col": 10,
        "height": 24,
        "hidden": false,
        "row": 0,
        "width": 2
       },
       "report_default": {}
      }
     }
    }
   },
   "outputs": [
    {
     "name": "stderr",
     "output_type": "stream",
     "text": [
      "Widget Javascript not detected.  It may not be installed properly. Did you enable the widgetsnbextension? If not, then run \"jupyter nbextension enable --py --sys-prefix widgetsnbextension\"\n"
     ]
    }
   ],
   "source": [
    "table_widget = widgets.HTML('<hr>')\n",
    "display(table_widget)"
   ]
  },
  {
   "cell_type": "code",
   "execution_count": 19,
   "metadata": {
    "collapsed": true,
    "extensions": {
     "jupyter_dashboards": {
      "version": 1,
      "views": {
       "grid_default": {
        "hidden": true
       },
       "report_default": {}
      }
     }
    }
   },
   "outputs": [],
   "source": [
    "def select_movies(reviews, year, oscars, boxoffice, genre, x_axis, y_axis, director, cast):\n",
    "    director_val = director.strip()\n",
    "    cast_val = cast.strip()\n",
    "    selected = movies[\n",
    "        (movies.Reviews >= reviews) &\n",
    "        (movies.BoxOffice >= (boxoffice * 1e6)) &\n",
    "        (movies.Year >= year[0]) &\n",
    "        (movies.Year <= year[1]) &\n",
    "        (movies.Oscars >= oscars)\n",
    "    ]\n",
    "    if (genre != \"All\"):\n",
    "        selected = selected[selected.Genre.str.contains(genre)==True]\n",
    "    if (director_val != \"\"):\n",
    "        selected = selected[selected.Director.str.contains(director_val)==True]\n",
    "    if (cast_val != \"\"):\n",
    "        selected = selected[selected.Cast.str.contains(cast_val)==True]\n",
    "    return selected"
   ]
  },
  {
   "cell_type": "code",
   "execution_count": 20,
   "metadata": {
    "collapsed": false,
    "extensions": {
     "jupyter_dashboards": {
      "version": 1,
      "views": {
       "grid_default": {
        "hidden": true
       },
       "report_default": {}
      }
     }
    }
   },
   "outputs": [],
   "source": [
    "reviews = widgets.IntSlider(description=\"Reviews\", value=80, min=10, max=300, step=10, continuous_update=False)\n",
    "year = widgets.IntRangeSlider(description=\"Year\", min=1940, max=2014, value=(1980, 2010), step=1, continuous_update=False)\n",
    "oscars = widgets.IntSlider(description=\"Oscars\", min=0, max=4, value=0, step=1, continuous_update=False)\n",
    "boxoffice = widgets.IntSlider(description=\"BoxOffice, $m\", min=0, max=800, value=0, step=1, continuous_update=False)"
   ]
  },
  {
   "cell_type": "code",
   "execution_count": 21,
   "metadata": {
    "collapsed": false,
    "extensions": {
     "jupyter_dashboards": {
      "version": 1,
      "views": {
       "grid_default": {
        "hidden": true
       },
       "report_default": {}
      }
     }
    }
   },
   "outputs": [],
   "source": [
    "genre = widgets.Dropdown(description=\"Genre\", value=\"All\", options=genres)\n",
    "x_axis = widgets.Dropdown(description=\"X Axis\", options=sorted(axis_map.keys()), value=\"Tomato Meter\")\n",
    "y_axis = widgets.Dropdown(description=\"Y Axis\", options=sorted(axis_map.keys()), value=\"Number of Reviews\")"
   ]
  },
  {
   "cell_type": "code",
   "execution_count": 22,
   "metadata": {
    "collapsed": true,
    "extensions": {
     "jupyter_dashboards": {
      "version": 1,
      "views": {
       "grid_default": {
        "hidden": true
       },
       "report_default": {}
      }
     }
    }
   },
   "outputs": [],
   "source": [
    "director = widgets.Text(description=\"Director\", placeholder=\"Director name contains\")\n",
    "cast = widgets.Text(description=\"Cast\", placeholder=\"Cast names contains\")"
   ]
  },
  {
   "cell_type": "code",
   "execution_count": 23,
   "metadata": {
    "collapsed": false,
    "extensions": {
     "jupyter_dashboards": {
      "version": 1,
      "views": {
       "grid_default": {
        "col": 0,
        "height": 14,
        "hidden": false,
        "row": 7,
        "width": 4
       },
       "report_default": {}
      }
     }
    }
   },
   "outputs": [
    {
     "name": "stderr",
     "output_type": "stream",
     "text": [
      "Widget Javascript not detected.  It may not be installed properly. Did you enable the widgetsnbextension? If not, then run \"jupyter nbextension enable --py --sys-prefix widgetsnbextension\"\n"
     ]
    }
   ],
   "source": [
    "@interact(reviews=reviews, year=year, oscars=oscars, boxoffice=boxoffice, \n",
    "          genre=genre, x_axis=x_axis, y_axis=y_axis, director=director, cast=cast)\n",
    "def update(reviews, year, oscars, boxoffice, genre, x_axis, y_axis, director, cast):\n",
    "    df = select_movies(reviews, year, oscars, boxoffice, genre, x_axis, y_axis, director, cast)\n",
    "    wallet.index = df.index\n",
    "    x_name = axis_map[x_axis]\n",
    "    y_name = axis_map[y_axis]\n",
    "\n",
    "    plot.xaxis.axis_label = x_axis\n",
    "    plot.yaxis.axis_label = y_axis\n",
    "    plot.title.text = \"{} movies selected\".format(len(df))\n",
    "    source.data = dict(\n",
    "        x=df[x_name],\n",
    "        y=df[y_name],\n",
    "        color=df[\"color\"],\n",
    "        title=df[\"Title\"],\n",
    "        year=df[\"Year\"],\n",
    "        revenue=df[\"revenue\"],\n",
    "        alpha=df[\"alpha\"],\n",
    "    )\n",
    "    push_notebook(handle=handle)"
   ]
  },
  {
   "cell_type": "code",
   "execution_count": 24,
   "metadata": {
    "collapsed": false
   },
   "outputs": [
    {
     "data": {
      "application/javascript": [
       "Jupyter.notebook.kernel.comm_manager.register_target(\n",
       "    'foobar42', \n",
       "    function (comm, msg) {\n",
       "        console.log(\"Registered Jupyter comms\");\n",
       "        window.comm_handle = comm;\n",
       "        comm.on_msg(function (msg) {console.log(msg.content.data)})\n",
       "    }\n",
       ")"
      ],
      "text/plain": [
       "<IPython.core.display.Javascript object>"
      ]
     },
     "metadata": {},
     "output_type": "display_data"
    }
   ],
   "source": [
    "%%js\n",
    "Jupyter.notebook.kernel.comm_manager.register_target(\n",
    "    'foobar42', \n",
    "    function (comm, msg) {\n",
    "        console.log(\"Registered Jupyter comms\");\n",
    "        window.comm_handle = comm;\n",
    "        comm.on_msg(function (msg) {console.log(msg.content.data)})\n",
    "    }\n",
    ")"
   ]
  },
  {
   "cell_type": "code",
   "execution_count": 25,
   "metadata": {
    "collapsed": false,
    "extensions": {
     "jupyter_dashboards": {
      "version": 1,
      "views": {
       "grid_default": {
        "hidden": true
       },
       "report_default": {}
      }
     }
    }
   },
   "outputs": [],
   "source": [
    "comm = Comm(target_name='foobar42')\n",
    "\n",
    "def payload_to_df(payload=None):\n",
    "    indices = json.loads(payload or wallet.payload)\n",
    "    return movies.loc[wallet.index[indices]][:20][['Title', 'Year']]\n",
    "\n",
    "@comm.on_msg\n",
    "def handle_msg(msg):\n",
    "    wallet.payload = msg['content']['data']\n",
    "    df = payload_to_df(wallet.payload)\n",
    "    table_widget.value = df.to_html(index=False, classes=\"table table-striped table-hover table-responsive\")"
   ]
  },
  {
   "cell_type": "code",
   "execution_count": 26,
   "metadata": {
    "collapsed": false,
    "extensions": {
     "jupyter_dashboards": {
      "version": 1,
      "views": {
       "grid_default": {
        "hidden": true
       },
       "report_default": {}
      }
     }
    }
   },
   "outputs": [
    {
     "data": {
      "application/javascript": [
       "$(\".widget-label\").css(\"min-width\", \"120px\");\n",
       "$(\".widget-hbox\").css(\"width\", \"400px\");"
      ],
      "text/plain": [
       "<IPython.core.display.Javascript object>"
      ]
     },
     "metadata": {},
     "output_type": "display_data"
    }
   ],
   "source": [
    "%%js\n",
    "$(\".widget-label\").css(\"min-width\", \"120px\");\n",
    "$(\".widget-hbox\").css(\"width\", \"400px\");"
   ]
  }
 ],
 "metadata": {
  "extensions": {
   "jupyter_dashboards": {
    "activeView": "grid_default",
    "version": 1,
    "views": {
     "grid_default": {
      "cellMargin": 10,
      "defaultCellHeight": 20,
      "maxColumns": 12,
      "name": "grid",
      "type": "grid"
     },
     "report_default": {
      "name": "report",
      "type": "report"
     }
    }
   }
  },
  "kernelspec": {
   "display_name": "Python 3",
   "language": "python",
   "name": "python3"
  },
  "language_info": {
   "codemirror_mode": {
    "name": "ipython",
    "version": 3
   },
   "file_extension": ".py",
   "mimetype": "text/x-python",
   "name": "python",
   "nbconvert_exporter": "python",
   "pygments_lexer": "ipython3",
   "version": "3.5.2"
  },
  "widgets": {
   "state": {
    "462a262e5e2440d3bc457edeb9f8f8dc": {
     "views": [
      {
       "cell_index": 4
      }
     ]
    },
    "670f476c90e94764b9c342c7d67ee236": {
     "views": [
      {
       "cell_index": 26
      }
     ]
    },
    "6c88b7d11a2a427a836429d775ca3d56": {
     "views": [
      {
       "cell_index": 21
      }
     ]
    }
   },
   "version": "1.2.0"
  }
 },
 "nbformat": 4,
 "nbformat_minor": 1
}
