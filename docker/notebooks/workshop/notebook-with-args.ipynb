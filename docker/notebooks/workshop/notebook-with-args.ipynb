{
 "cells": [
  {
   "cell_type": "code",
   "execution_count": 9,
   "metadata": {
    "collapsed": false,
    "extensions": {
     "jupyter_dashboards": {
      "version": 1,
      "views": {
       "grid_default": {
        "hidden": true
       },
       "report_default": {}
      }
     }
    }
   },
   "outputs": [
    {
     "data": {
      "application/javascript": [
       "$(\".repository-content, .container\").css(\"width\", \"90%\");\n",
       "$(\"body, #outer-dashboard, .navbar-default\").css(\"background-color\", \"antiquewhite\");\n",
       "$(\".navbar-default\").css(\"background-color\", \"lightblue\");"
      ],
      "text/plain": [
       "<IPython.core.display.Javascript object>"
      ]
     },
     "metadata": {},
     "output_type": "display_data"
    }
   ],
   "source": [
    "%%js\n",
    "$(\".repository-content, .container\").css(\"width\", \"90%\");\n",
    "$(\"body, #outer-dashboard, .navbar-default\").css(\"background-color\", \"antiquewhite\");\n",
    "$(\".navbar-default\").css(\"background-color\", \"lightblue\");"
   ]
  },
  {
   "cell_type": "code",
   "execution_count": 2,
   "metadata": {
    "collapsed": false,
    "extensions": {
     "jupyter_dashboards": {
      "version": 1,
      "views": {
       "grid_default": {
        "col": 0,
        "height": 4,
        "hidden": false,
        "row": 0,
        "width": 2
       },
       "report_default": {}
      }
     }
    }
   },
   "outputs": [
    {
     "data": {
      "text/html": [
       "<img src=\"//localhost:3010/files/img/pydata.png\">"
      ],
      "text/plain": [
       "<IPython.core.display.HTML object>"
      ]
     },
     "metadata": {},
     "output_type": "display_data"
    }
   ],
   "source": [
    "%%html\n",
    "<img src=\"//localhost:3010/files/img/pydata.png\">"
   ]
  },
  {
   "cell_type": "code",
   "execution_count": 3,
   "metadata": {
    "collapsed": false,
    "extensions": {
     "jupyter_dashboards": {
      "version": 1,
      "views": {
       "grid_default": {
        "hidden": true
       },
       "report_default": {}
      }
     }
    }
   },
   "outputs": [
    {
     "data": {
      "application/javascript": [
       "Jupyter.notebook.kernel.comm_manager.register_target(\n",
       "    'foo_comm_channel',\n",
       "    function (comm, msg) {\n",
       "        comm.send({url: window.location.href});\n",
       "    });"
      ],
      "text/plain": [
       "<IPython.core.display.Javascript object>"
      ]
     },
     "metadata": {},
     "output_type": "display_data"
    }
   ],
   "source": [
    "%%js\n",
    "Jupyter.notebook.kernel.comm_manager.register_target(\n",
    "    'foo_comm_channel',\n",
    "    function (comm, msg) {\n",
    "        comm.send({url: window.location.href});\n",
    "    });"
   ]
  },
  {
   "cell_type": "code",
   "execution_count": 4,
   "metadata": {
    "collapsed": true,
    "extensions": {
     "jupyter_dashboards": {
      "version": 1,
      "views": {
       "grid_default": {
        "hidden": true
       },
       "report_default": {}
      }
     }
    }
   },
   "outputs": [],
   "source": [
    "from urllib.parse import urlparse, parse_qs\n",
    "\n",
    "import io\n",
    "import base64\n",
    "import matplotlib.pyplot as plt\n",
    "import requests\n",
    "\n",
    "from ipywidgets import widgets\n",
    "from IPython.display import display, Javascript\n",
    "from ipykernel.comm import Comm\n",
    "from wordcloud import WordCloud, STOPWORDS"
   ]
  },
  {
   "cell_type": "code",
   "execution_count": 5,
   "metadata": {
    "collapsed": false,
    "extensions": {
     "jupyter_dashboards": {
      "version": 1,
      "views": {
       "grid_default": {
        "col": 2,
        "height": 18,
        "hidden": false,
        "row": 0,
        "width": 8
       },
       "report_default": {}
      }
     }
    }
   },
   "outputs": [
    {
     "name": "stderr",
     "output_type": "stream",
     "text": [
      "Widget Javascript not detected.  It may not be installed properly. Did you enable the widgetsnbextension? If not, then run \"jupyter nbextension enable --py --sys-prefix widgetsnbextension\"\n"
     ]
    }
   ],
   "source": [
    "debug_widget = widgets.HTML('')\n",
    "display(debug_widget)"
   ]
  },
  {
   "cell_type": "code",
   "execution_count": 6,
   "metadata": {
    "collapsed": true,
    "extensions": {
     "jupyter_dashboards": {
      "version": 1,
      "views": {
       "grid_default": {
        "hidden": true
       },
       "report_default": {}
      }
     }
    }
   },
   "outputs": [],
   "source": [
    "def make_wordcloud(term):\n",
    "    try:\n",
    "        url = r'https://en.wikipedia.org/w/api.php?format=json&action=query&prop=extracts&exintro=&explaintext=&titles={}'.format(term)\n",
    "        res = requests.get(url).json()\n",
    "        text = list(res['query']['pages'].values())[0].get('extract', '').lower()\n",
    "        wc = WordCloud(stopwords=STOPWORDS, background_color='black', width=600,\n",
    "                       height=300).generate(text)\n",
    "        \n",
    "        sio = io.BytesIO()\n",
    "        \n",
    "        plt.figure(figsize=(10, 5))\n",
    "        plt.imshow(wc)\n",
    "        plt.axis('off')\n",
    "        plt.savefig(sio, format='png', bbox_inches='tight')\n",
    "        html = '<img src=\"data:image/png;base64, {}\"/>'.format(base64.b64encode(sio.getvalue()).decode('utf-8'))\n",
    "        debug_widget.value = html\n",
    "    except (IndexError, ValueError):\n",
    "        debug_widget.value = 'Nothing found'"
   ]
  },
  {
   "cell_type": "code",
   "execution_count": 7,
   "metadata": {
    "collapsed": true,
    "extensions": {
     "jupyter_dashboards": {
      "version": 1,
      "views": {
       "grid_default": {
        "hidden": true
       },
       "report_default": {}
      }
     }
    }
   },
   "outputs": [],
   "source": [
    "def parse_url(url):\n",
    "    q = urlparse(url).query\n",
    "    return {k.lower(): v[0] for k, v in parse_qs(q).items()}"
   ]
  },
  {
   "cell_type": "code",
   "execution_count": 8,
   "metadata": {
    "collapsed": true,
    "extensions": {
     "jupyter_dashboards": {
      "version": 1,
      "views": {
       "grid_default": {
        "hidden": true
       },
       "report_default": {}
      }
     }
    }
   },
   "outputs": [],
   "source": [
    "comm = Comm(target_name='foo_comm_channel')\n",
    "@comm.on_msg\n",
    "def handle_msg(msg):\n",
    "    url = msg['content']['data']['url']\n",
    "    args = parse_url(url)\n",
    "    term = args.get('term', '')\n",
    "    if term:\n",
    "        make_wordcloud(term)\n",
    "    else:\n",
    "        debug_widget.value = '<h2>Nothing to show</h2>'"
   ]
  }
 ],
 "metadata": {
  "extensions": {
   "jupyter_dashboards": {
    "activeView": "grid_default",
    "version": 1,
    "views": {
     "grid_default": {
      "cellMargin": 10,
      "defaultCellHeight": 20,
      "maxColumns": 12,
      "name": "grid",
      "type": "grid"
     },
     "report_default": {
      "name": "report",
      "type": "report"
     }
    }
   }
  },
  "kernelspec": {
   "display_name": "Python 3",
   "language": "python",
   "name": "python3"
  },
  "language_info": {
   "codemirror_mode": {
    "name": "ipython",
    "version": 3
   },
   "file_extension": ".py",
   "mimetype": "text/x-python",
   "name": "python",
   "nbconvert_exporter": "python",
   "pygments_lexer": "ipython3",
   "version": "3.5.2"
  },
  "widgets": {
   "state": {
    "a722ea62084147eb82be83b0a4f1d871": {
     "views": [
      {
       "cell_index": 4
      }
     ]
    }
   },
   "version": "1.2.0"
  }
 },
 "nbformat": 4,
 "nbformat_minor": 1
}
